{
 "cells": [
  {
   "cell_type": "code",
   "execution_count": 44,
   "id": "132d0dab",
   "metadata": {},
   "outputs": [],
   "source": [
    "import pandas as pd\n",
    "import numpy as np\n",
    "\n",
    "stox_1 = pd.read_csv('Equity Valuation CSVs/MSCIEmergingMarketsPBRatio.csv')\n",
    "stox_2 = pd.read_csv('Equity Valuation CSVs/MSCIEuropePBRatio.csv')\n",
    "stox_3 = pd.read_csv('Equity Valuation CSVs/SP500PBRatio.csv')"
   ]
  },
  {
   "cell_type": "code",
   "execution_count": 45,
   "id": "5427423e",
   "metadata": {},
   "outputs": [],
   "source": [
    "def intersection(lst1, lst2):\n",
    "    return list(set(lst1) & set(lst2))"
   ]
  },
  {
   "cell_type": "code",
   "execution_count": 46,
   "id": "34f48d9c",
   "metadata": {},
   "outputs": [],
   "source": [
    "dates = intersection(stox_1['Date'], stox_3['Date'])"
   ]
  },
  {
   "cell_type": "code",
   "execution_count": 47,
   "id": "5975f512",
   "metadata": {},
   "outputs": [],
   "source": [
    "stox_1 = stox_1[stox_1['Date'].isin(dates)]\n",
    "stox_2 = stox_2[stox_2['Date'].isin(dates)]\n",
    "stox_3 = stox_3[stox_3['Date'].isin(dates)]"
   ]
  },
  {
   "cell_type": "code",
   "execution_count": 48,
   "id": "78c32f0f",
   "metadata": {},
   "outputs": [],
   "source": [
    "stox_1['diff'] = stox_1[' MSCI EM P/B Ratio'].diff()\n",
    "stox_2['diff'] = stox_2['MSCI EU Index P/B ratio'].diff()\n",
    "stox_3['diff'] = stox_3['S&P 500 Index P/B Ratio'].diff()"
   ]
  },
  {
   "cell_type": "code",
   "execution_count": 49,
   "id": "0157ee0b",
   "metadata": {},
   "outputs": [],
   "source": [
    "def roll(date, data, col, n):\n",
    "    # data is a df\n",
    "    # col is a column name in df\n",
    "    \n",
    "    index = data['Date'].loc[data['Date']==date].index.values[0]\n",
    "    last_index = data.index[len(data)-1]\n",
    "    \n",
    "    if index + n < len(data):\n",
    "        previous = data.loc[index:index+n]\n",
    "        avg = np.sum(previous[col].values)/len(previous)\n",
    "    else:\n",
    "        previous = data.loc[index:last_index]\n",
    "        avg = np.sum(previous[col].values)/len(previous)\n",
    "        \n",
    "    return avg"
   ]
  },
  {
   "cell_type": "code",
   "execution_count": 50,
   "id": "c1a93600",
   "metadata": {},
   "outputs": [],
   "source": [
    "stox_1_roll = []\n",
    "stox_2_roll = []\n",
    "stox_3_roll = []\n",
    "\n",
    "for index in stox_1.index:\n",
    "    date = stox_1.at[index, 'Date']\n",
    "    stox_1_roll.append(roll(date, stox_1, 'diff', 10))\n",
    "    \n",
    "for index in stox_2.index:\n",
    "    date = stox_2.at[index, 'Date']\n",
    "    stox_2_roll.append(roll(date, stox_2, 'diff', 10))\n",
    "    \n",
    "for index in stox_3.index:\n",
    "    date = stox_3.at[index, 'Date']\n",
    "    stox_3_roll.append(roll(date, stox_3, 'diff', 10))"
   ]
  },
  {
   "cell_type": "code",
   "execution_count": 51,
   "id": "03b9ee5d",
   "metadata": {},
   "outputs": [],
   "source": [
    "stox = pd.DataFrame({'Date':stox_1['Date'],\n",
    "                     'stox_1_roll':stox_1_roll,\n",
    "                     'stox_2_roll':stox_2_roll,\n",
    "                     'stox_3_roll':stox_3_roll})"
   ]
  },
  {
   "cell_type": "code",
   "execution_count": 52,
   "id": "025dc5db",
   "metadata": {},
   "outputs": [],
   "source": [
    "def into_bucket(a, value):\n",
    "    b=np.round(a*value)/value+1-1\n",
    "    return b"
   ]
  },
  {
   "cell_type": "code",
   "execution_count": 53,
   "id": "1536c20c",
   "metadata": {},
   "outputs": [],
   "source": [
    "import statistics\n",
    "avg_1 = statistics.mean(stox['stox_1_roll'].dropna())\n",
    "avg_2 = statistics.mean(stox['stox_2_roll'].dropna())\n",
    "avg_3 = statistics.mean(stox['stox_3_roll'].dropna())\n",
    "\n",
    "sd_1 = statistics.stdev(stox['stox_1_roll'].dropna())\n",
    "sd_2 = statistics.stdev(stox['stox_2_roll'].dropna())\n",
    "sd_3 = statistics.stdev(stox['stox_3_roll'].dropna())\n",
    "\n",
    "zscores_1 = np.zeros([4,len(stox.index)])\n",
    "zscores_2 = np.zeros([4,len(stox.index)])\n",
    "zscores_3 = np.zeros([4,len(stox.index)])\n",
    "\n",
    "for a in range(1,5):\n",
    "    for i in range(len(stox)):\n",
    "        if stox['stox_1_roll'][stox.index[i]] != 'NaN':\n",
    "            z_bucket = into_bucket((stox['stox_1_roll'][stox.index[i]] - avg_1)/sd_1, a)\n",
    "            zscores_1[a-1,i-1] = z_bucket\n",
    "        else:\n",
    "            zscores_1[a-1,i-1] = 'NaN'\n",
    "\n",
    "        if stox['stox_2_roll'][stox.index[i]] != 'NaN':\n",
    "            z_bucket = into_bucket((stox['stox_2_roll'][stox.index[i]] - avg_1)/sd_1, a)\n",
    "            zscores_2[a-1,i-1] = z_bucket\n",
    "        else:\n",
    "            zscores_2[a-1,i-1] = 'NaN'\n",
    "\n",
    "        if stox['stox_3_roll'][stox.index[i]] != 'NaN':\n",
    "            z_bucket = into_bucket((stox['stox_3_roll'][stox.index[i]] - avg_1)/sd_1, a)\n",
    "            zscores_3[a-1,i-1] = z_bucket\n",
    "        else:\n",
    "            zscores_3[a-1,i-1] = 'NaN'"
   ]
  },
  {
   "cell_type": "code",
   "execution_count": 54,
   "id": "006d1971",
   "metadata": {},
   "outputs": [],
   "source": [
    "zscores_1_names = [[str(a) for a in zscores_1[i,:]] for i in range(0,4)]\n",
    "zscores_2_names = [[str(a) for a in zscores_2[i,:]] for i in range(0,4)]\n",
    "zscores_3_names = [[str(a) for a in zscores_3[i,:]] for i in range(0,4)]"
   ]
  },
  {
   "cell_type": "code",
   "execution_count": 58,
   "id": "9d396a73",
   "metadata": {},
   "outputs": [],
   "source": [
    "stox = pd.DataFrame({'Date': stox_1['Date'],\n",
    "                     'zscore_1_1': zscores_1[0,:], \n",
    "                     'zscore_2_1': zscores_2[0,:],\n",
    "                     'zscore_3_1': zscores_3[0,:],\n",
    "                     'zscore_1_2': zscores_1[1,:], \n",
    "                     'zscore_2_2': zscores_2[1,:],\n",
    "                     'zscore_3_2': zscores_3[1,:],\n",
    "                     'zscore_1_3': zscores_1[2,:], \n",
    "                     'zscore_2_3': zscores_2[2,:],\n",
    "                     'zscore_3_3': zscores_3[2,:],\n",
    "                     'zscore_1_4': zscores_1[3,:], \n",
    "                     'zscore_2_4': zscores_2[3,:],\n",
    "                     'zscore_3_4': zscores_3[3,:]})"
   ]
  },
  {
   "cell_type": "code",
   "execution_count": 59,
   "id": "74dfa440",
   "metadata": {},
   "outputs": [],
   "source": [
    "stox.to_csv('stox_zscore_buckets.csv')  "
   ]
  },
  {
   "cell_type": "code",
   "execution_count": null,
   "id": "8110479d",
   "metadata": {},
   "outputs": [],
   "source": []
  }
 ],
 "metadata": {
  "kernelspec": {
   "display_name": "Python 3",
   "language": "python",
   "name": "python3"
  },
  "language_info": {
   "codemirror_mode": {
    "name": "ipython",
    "version": 3
   },
   "file_extension": ".py",
   "mimetype": "text/x-python",
   "name": "python",
   "nbconvert_exporter": "python",
   "pygments_lexer": "ipython3",
   "version": "3.9.13"
  }
 },
 "nbformat": 4,
 "nbformat_minor": 5
}
