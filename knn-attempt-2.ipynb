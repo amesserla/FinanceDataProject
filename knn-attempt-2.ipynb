{
 "cells": [
  {
   "cell_type": "code",
   "execution_count": 5,
   "id": "2dc4b46b",
   "metadata": {},
   "outputs": [],
   "source": [
    "import pandas as pd\n",
    "\n",
    "cred_1 = pd.read_csv('/Users/bengould/Documents/GitHub/code-22/Untitled/FinanceDataProject/Credit CSVs/EuroHYOAS.csv')\n",
    "cred_2 = pd.read_csv('/Users/bengould/Documents/GitHub/code-22/Untitled/FinanceDataProject/Credit CSVs/EuroIGOAS.csv')\n",
    "cred_3 = pd.read_csv('/Users/bengould/Documents/GitHub/code-22/Untitled/FinanceDataProject/Credit CSVs/USHYOAS.csv')\n",
    "cred_4 = pd.read_csv('/Users/bengould/Documents/GitHub/code-22/Untitled/FinanceDataProject/Credit CSVs/USIGOAS.csv')\n",
    "\n",
    "fund_1 = pd.read_csv('/Users/bengould/Documents/GitHub/code-22/Untitled/FinanceDataProject/Funding CSVs/EURIBORESTR.csv')\n",
    "fund_2 = pd.read_csv('/Users/bengould/Documents/GitHub/code-22/Untitled/FinanceDataProject/Funding CSVs/JPYLOIS3M.csv')\n",
    "fund_3 = pd.read_csv('/Users/bengould/Documents/GitHub/code-22/Untitled/FinanceDataProject/Funding CSVs/TEDSPREAD3M.csv')\n",
    "fund_4 = pd.read_csv('/Users/bengould/Documents/GitHub/code-22/Untitled/FinanceDataProject/Funding CSVs/USDLOIS3M.csv')\n",
    "\n",
    "safe_1 = pd.read_csv('/Users/bengould/Documents/GitHub/code-22/Untitled/FinanceDataProject/Safe Assets CSVs/German10YBond.csv')\n",
    "safe_2 = pd.read_csv('/Users/bengould/Documents/GitHub/code-22/Untitled/FinanceDataProject/Safe Assets CSVs/GoldUSDSpotXRate.csv')\n",
    "safe_3 = pd.read_csv('/Users/bengould/Documents/GitHub/code-22/Untitled/FinanceDataProject/Safe Assets CSVs/UST10YBondYeild.csv')\n",
    "\n",
    "vol_1 = pd.read_csv('/Users/bengould/Documents/GitHub/code-22/Untitled/FinanceDataProject/Volatility CSVs/DJEuroStoxx50VolIndex.csv')\n",
    "vol_2 = pd.read_csv('/Users/bengould/Documents/GitHub/code-22/Untitled/FinanceDataProject/Volatility CSVs/IV6mEurUsdOptions.csv')\n",
    "vol_3 = pd.read_csv('/Users/bengould/Documents/GitHub/code-22/Untitled/FinanceDataProject/Volatility CSVs/VIX CBOE Volatility Index Combined.csv')\n",
    "vol_4 = pd.read_csv('/Users/bengould/Documents/GitHub/code-22/Untitled/FinanceDataProject/Volatility CSVs/VIX CBOE Volatility Index from 2007 to 2020.csv')\n",
    "vol_5 = pd.read_csv('/Users/bengould/Documents/GitHub/code-22/Untitled/FinanceDataProject/Volatility CSVs/VIX CBOE Volatility Index from 2017 to 2022.csv')\n",
    "vol_6 = pd.read_csv('/Users/bengould/Documents/GitHub/code-22/Untitled/FinanceDataProject/Volatility CSVs/VIX.csv')\n",
    "# only vol_1, vol_2, and vol_6 should be used"
   ]
  },
  {
   "cell_type": "code",
   "execution_count": 6,
   "id": "26c4f302",
   "metadata": {},
   "outputs": [],
   "source": [
    "stox = pd.read_csv('/Users/bengould/Documents/GitHub/code-22/Untitled/FinanceDataProject/stox_zscore_buckets.csv')"
   ]
  },
  {
   "cell_type": "code",
   "execution_count": 7,
   "id": "2b86b3c3",
   "metadata": {},
   "outputs": [
    {
     "data": {
      "text/html": [
       "<div>\n",
       "<style scoped>\n",
       "    .dataframe tbody tr th:only-of-type {\n",
       "        vertical-align: middle;\n",
       "    }\n",
       "\n",
       "    .dataframe tbody tr th {\n",
       "        vertical-align: top;\n",
       "    }\n",
       "\n",
       "    .dataframe thead th {\n",
       "        text-align: right;\n",
       "    }\n",
       "</style>\n",
       "<table border=\"1\" class=\"dataframe\">\n",
       "  <thead>\n",
       "    <tr style=\"text-align: right;\">\n",
       "      <th></th>\n",
       "      <th>Unnamed: 0</th>\n",
       "      <th>date</th>\n",
       "      <th>zscore_1</th>\n",
       "      <th>zscore_2</th>\n",
       "      <th>zscore_3</th>\n",
       "      <th>zscore_1_name</th>\n",
       "      <th>zscore_2_name</th>\n",
       "      <th>zscore_3_name</th>\n",
       "    </tr>\n",
       "  </thead>\n",
       "  <tbody>\n",
       "    <tr>\n",
       "      <th>0</th>\n",
       "      <td>0</td>\n",
       "      <td>2022-10-31</td>\n",
       "      <td>NaN</td>\n",
       "      <td>NaN</td>\n",
       "      <td>NaN</td>\n",
       "      <td>NaN</td>\n",
       "      <td>NaN</td>\n",
       "      <td>NaN</td>\n",
       "    </tr>\n",
       "    <tr>\n",
       "      <th>1</th>\n",
       "      <td>1</td>\n",
       "      <td>2022-10-28</td>\n",
       "      <td>0.25</td>\n",
       "      <td>-1.25</td>\n",
       "      <td>-2.50</td>\n",
       "      <td>0.25</td>\n",
       "      <td>-1.25</td>\n",
       "      <td>-2.50</td>\n",
       "    </tr>\n",
       "    <tr>\n",
       "      <th>2</th>\n",
       "      <td>2</td>\n",
       "      <td>2022-10-27</td>\n",
       "      <td>0.00</td>\n",
       "      <td>-1.25</td>\n",
       "      <td>-2.00</td>\n",
       "      <td>0.00</td>\n",
       "      <td>-1.25</td>\n",
       "      <td>-2.00</td>\n",
       "    </tr>\n",
       "    <tr>\n",
       "      <th>3</th>\n",
       "      <td>3</td>\n",
       "      <td>2022-10-26</td>\n",
       "      <td>0.00</td>\n",
       "      <td>-1.25</td>\n",
       "      <td>-2.00</td>\n",
       "      <td>0.00</td>\n",
       "      <td>-1.25</td>\n",
       "      <td>-2.00</td>\n",
       "    </tr>\n",
       "    <tr>\n",
       "      <th>4</th>\n",
       "      <td>4</td>\n",
       "      <td>2022-10-25</td>\n",
       "      <td>0.25</td>\n",
       "      <td>-1.25</td>\n",
       "      <td>-2.00</td>\n",
       "      <td>0.25</td>\n",
       "      <td>-1.25</td>\n",
       "      <td>-2.00</td>\n",
       "    </tr>\n",
       "    <tr>\n",
       "      <th>...</th>\n",
       "      <td>...</td>\n",
       "      <td>...</td>\n",
       "      <td>...</td>\n",
       "      <td>...</td>\n",
       "      <td>...</td>\n",
       "      <td>...</td>\n",
       "      <td>...</td>\n",
       "      <td>...</td>\n",
       "    </tr>\n",
       "    <tr>\n",
       "      <th>3031</th>\n",
       "      <td>3141</td>\n",
       "      <td>2010-10-15</td>\n",
       "      <td>-0.25</td>\n",
       "      <td>-0.50</td>\n",
       "      <td>-0.50</td>\n",
       "      <td>-0.25</td>\n",
       "      <td>-0.50</td>\n",
       "      <td>-0.50</td>\n",
       "    </tr>\n",
       "    <tr>\n",
       "      <th>3032</th>\n",
       "      <td>3142</td>\n",
       "      <td>2010-10-14</td>\n",
       "      <td>-1.00</td>\n",
       "      <td>-0.50</td>\n",
       "      <td>-0.25</td>\n",
       "      <td>-1.00</td>\n",
       "      <td>-0.50</td>\n",
       "      <td>-0.25</td>\n",
       "    </tr>\n",
       "    <tr>\n",
       "      <th>3033</th>\n",
       "      <td>3143</td>\n",
       "      <td>2010-10-13</td>\n",
       "      <td>-2.00</td>\n",
       "      <td>-0.75</td>\n",
       "      <td>-0.25</td>\n",
       "      <td>-2.00</td>\n",
       "      <td>-0.75</td>\n",
       "      <td>-0.25</td>\n",
       "    </tr>\n",
       "    <tr>\n",
       "      <th>3034</th>\n",
       "      <td>3144</td>\n",
       "      <td>2010-10-12</td>\n",
       "      <td>-1.50</td>\n",
       "      <td>-1.50</td>\n",
       "      <td>-1.00</td>\n",
       "      <td>-1.50</td>\n",
       "      <td>-1.50</td>\n",
       "      <td>-1.00</td>\n",
       "    </tr>\n",
       "    <tr>\n",
       "      <th>3035</th>\n",
       "      <td>3145</td>\n",
       "      <td>2010-10-11</td>\n",
       "      <td>2.50</td>\n",
       "      <td>0.75</td>\n",
       "      <td>-0.50</td>\n",
       "      <td>2.50</td>\n",
       "      <td>0.75</td>\n",
       "      <td>-0.50</td>\n",
       "    </tr>\n",
       "  </tbody>\n",
       "</table>\n",
       "<p>3036 rows × 8 columns</p>\n",
       "</div>"
      ],
      "text/plain": [
       "      Unnamed: 0        date  zscore_1  zscore_2  zscore_3  zscore_1_name  \\\n",
       "0              0  2022-10-31       NaN       NaN       NaN            NaN   \n",
       "1              1  2022-10-28      0.25     -1.25     -2.50           0.25   \n",
       "2              2  2022-10-27      0.00     -1.25     -2.00           0.00   \n",
       "3              3  2022-10-26      0.00     -1.25     -2.00           0.00   \n",
       "4              4  2022-10-25      0.25     -1.25     -2.00           0.25   \n",
       "...          ...         ...       ...       ...       ...            ...   \n",
       "3031        3141  2010-10-15     -0.25     -0.50     -0.50          -0.25   \n",
       "3032        3142  2010-10-14     -1.00     -0.50     -0.25          -1.00   \n",
       "3033        3143  2010-10-13     -2.00     -0.75     -0.25          -2.00   \n",
       "3034        3144  2010-10-12     -1.50     -1.50     -1.00          -1.50   \n",
       "3035        3145  2010-10-11      2.50      0.75     -0.50           2.50   \n",
       "\n",
       "      zscore_2_name  zscore_3_name  \n",
       "0               NaN            NaN  \n",
       "1             -1.25          -2.50  \n",
       "2             -1.25          -2.00  \n",
       "3             -1.25          -2.00  \n",
       "4             -1.25          -2.00  \n",
       "...             ...            ...  \n",
       "3031          -0.50          -0.50  \n",
       "3032          -0.50          -0.25  \n",
       "3033          -0.75          -0.25  \n",
       "3034          -1.50          -1.00  \n",
       "3035           0.75          -0.50  \n",
       "\n",
       "[3036 rows x 8 columns]"
      ]
     },
     "execution_count": 7,
     "metadata": {},
     "output_type": "execute_result"
    }
   ],
   "source": [
    "stox"
   ]
  },
  {
   "cell_type": "code",
   "execution_count": 8,
   "id": "0d6f1787",
   "metadata": {},
   "outputs": [],
   "source": [
    "cred_dates = set(cred_1['Date']) & set(cred_2['Date']) & set(cred_3['Date']) & set(cred_4['Date'])"
   ]
  },
  {
   "cell_type": "code",
   "execution_count": 9,
   "id": "40b2430c",
   "metadata": {},
   "outputs": [],
   "source": [
    "cred_1 = cred_1[cred_1['Date'].isin(cred_dates)]\n",
    "cred_2 = cred_2[cred_2['Date'].isin(cred_dates)]\n",
    "cred_3 = cred_3[cred_3['Date'].isin(cred_dates)]\n",
    "cred_4 = cred_4[cred_4['Date'].isin(cred_dates)]\n",
    "\n",
    "cred = pd.DataFrame({'date':cred_1['Date'].values,\n",
    "                     'cred_1':cred_1['EU HY OAS'].values,\n",
    "                     'cred_2':cred_2['EU IG OAS'].values,\n",
    "                     'cred_3':cred_3['USD HY OAS'].values,\n",
    "                     'cred_4':cred_4['USD IG OAS'].values})"
   ]
  },
  {
   "cell_type": "code",
   "execution_count": 10,
   "id": "3be581d5",
   "metadata": {},
   "outputs": [
    {
     "data": {
      "text/html": [
       "<div>\n",
       "<style scoped>\n",
       "    .dataframe tbody tr th:only-of-type {\n",
       "        vertical-align: middle;\n",
       "    }\n",
       "\n",
       "    .dataframe tbody tr th {\n",
       "        vertical-align: top;\n",
       "    }\n",
       "\n",
       "    .dataframe thead th {\n",
       "        text-align: right;\n",
       "    }\n",
       "</style>\n",
       "<table border=\"1\" class=\"dataframe\">\n",
       "  <thead>\n",
       "    <tr style=\"text-align: right;\">\n",
       "      <th></th>\n",
       "      <th>date</th>\n",
       "      <th>cred_1</th>\n",
       "      <th>cred_2</th>\n",
       "      <th>cred_3</th>\n",
       "      <th>cred_4</th>\n",
       "    </tr>\n",
       "  </thead>\n",
       "  <tbody>\n",
       "    <tr>\n",
       "      <th>0</th>\n",
       "      <td>2022-10-31</td>\n",
       "      <td>480.738</td>\n",
       "      <td>121.777</td>\n",
       "      <td>472.284</td>\n",
       "      <td>183.566</td>\n",
       "    </tr>\n",
       "    <tr>\n",
       "      <th>1</th>\n",
       "      <td>2022-10-28</td>\n",
       "      <td>497.928</td>\n",
       "      <td>125.926</td>\n",
       "      <td>467.056</td>\n",
       "      <td>184.495</td>\n",
       "    </tr>\n",
       "    <tr>\n",
       "      <th>2</th>\n",
       "      <td>2022-10-27</td>\n",
       "      <td>515.061</td>\n",
       "      <td>127.876</td>\n",
       "      <td>493.411</td>\n",
       "      <td>190.219</td>\n",
       "    </tr>\n",
       "    <tr>\n",
       "      <th>3</th>\n",
       "      <td>2022-10-26</td>\n",
       "      <td>514.567</td>\n",
       "      <td>129.098</td>\n",
       "      <td>493.709</td>\n",
       "      <td>188.050</td>\n",
       "    </tr>\n",
       "    <tr>\n",
       "      <th>4</th>\n",
       "      <td>2022-10-25</td>\n",
       "      <td>519.831</td>\n",
       "      <td>130.468</td>\n",
       "      <td>494.462</td>\n",
       "      <td>186.661</td>\n",
       "    </tr>\n",
       "    <tr>\n",
       "      <th>...</th>\n",
       "      <td>...</td>\n",
       "      <td>...</td>\n",
       "      <td>...</td>\n",
       "      <td>...</td>\n",
       "      <td>...</td>\n",
       "    </tr>\n",
       "    <tr>\n",
       "      <th>2688</th>\n",
       "      <td>2012-01-09</td>\n",
       "      <td>589.336</td>\n",
       "      <td>151.872</td>\n",
       "      <td>522.309</td>\n",
       "      <td>182.827</td>\n",
       "    </tr>\n",
       "    <tr>\n",
       "      <th>2689</th>\n",
       "      <td>2012-01-06</td>\n",
       "      <td>603.040</td>\n",
       "      <td>152.070</td>\n",
       "      <td>523.585</td>\n",
       "      <td>182.282</td>\n",
       "    </tr>\n",
       "    <tr>\n",
       "      <th>2690</th>\n",
       "      <td>2012-01-05</td>\n",
       "      <td>601.297</td>\n",
       "      <td>151.852</td>\n",
       "      <td>525.406</td>\n",
       "      <td>181.335</td>\n",
       "    </tr>\n",
       "    <tr>\n",
       "      <th>2691</th>\n",
       "      <td>2012-01-04</td>\n",
       "      <td>598.793</td>\n",
       "      <td>152.717</td>\n",
       "      <td>525.035</td>\n",
       "      <td>179.059</td>\n",
       "    </tr>\n",
       "    <tr>\n",
       "      <th>2692</th>\n",
       "      <td>2012-01-03</td>\n",
       "      <td>601.606</td>\n",
       "      <td>151.473</td>\n",
       "      <td>521.003</td>\n",
       "      <td>170.316</td>\n",
       "    </tr>\n",
       "  </tbody>\n",
       "</table>\n",
       "<p>2693 rows × 5 columns</p>\n",
       "</div>"
      ],
      "text/plain": [
       "            date   cred_1   cred_2   cred_3   cred_4\n",
       "0     2022-10-31  480.738  121.777  472.284  183.566\n",
       "1     2022-10-28  497.928  125.926  467.056  184.495\n",
       "2     2022-10-27  515.061  127.876  493.411  190.219\n",
       "3     2022-10-26  514.567  129.098  493.709  188.050\n",
       "4     2022-10-25  519.831  130.468  494.462  186.661\n",
       "...          ...      ...      ...      ...      ...\n",
       "2688  2012-01-09  589.336  151.872  522.309  182.827\n",
       "2689  2012-01-06  603.040  152.070  523.585  182.282\n",
       "2690  2012-01-05  601.297  151.852  525.406  181.335\n",
       "2691  2012-01-04  598.793  152.717  525.035  179.059\n",
       "2692  2012-01-03  601.606  151.473  521.003  170.316\n",
       "\n",
       "[2693 rows x 5 columns]"
      ]
     },
     "execution_count": 10,
     "metadata": {},
     "output_type": "execute_result"
    }
   ],
   "source": [
    "cred"
   ]
  },
  {
   "cell_type": "code",
   "execution_count": 11,
   "id": "bc19a9dd",
   "metadata": {},
   "outputs": [],
   "source": [
    "fund_dates = set(fund_1['Date']) & set(fund_2['Date']) & set(fund_3['Date']) & set(fund_4['Date'])\n",
    "\n",
    "fund_1 = fund_1[fund_1['Date'].isin(fund_dates)]\n",
    "fund_2 = fund_2[fund_2['Date'].isin(fund_dates)]\n",
    "fund_3 = fund_3[fund_3['Date'].isin(fund_dates)]\n",
    "fund_4 = fund_4[fund_4['Date'].isin(fund_dates)]\n",
    "\n",
    "fund = pd.DataFrame({'date':fund_1['Date'].values,\n",
    "                     'fund_1':fund_1['3M Euribor - ESTR'].values,\n",
    "                     'fund_2':fund_2['JPY 3MLIBOR-OIS'].values,\n",
    "                     'fund_3':fund_3['3M TED Spread'].values,\n",
    "                     'fund_4':fund_4['USD 3M Libor - OIS'].values})"
   ]
  },
  {
   "cell_type": "code",
   "execution_count": 12,
   "id": "21040455",
   "metadata": {},
   "outputs": [
    {
     "data": {
      "text/html": [
       "<div>\n",
       "<style scoped>\n",
       "    .dataframe tbody tr th:only-of-type {\n",
       "        vertical-align: middle;\n",
       "    }\n",
       "\n",
       "    .dataframe tbody tr th {\n",
       "        vertical-align: top;\n",
       "    }\n",
       "\n",
       "    .dataframe thead th {\n",
       "        text-align: right;\n",
       "    }\n",
       "</style>\n",
       "<table border=\"1\" class=\"dataframe\">\n",
       "  <thead>\n",
       "    <tr style=\"text-align: right;\">\n",
       "      <th></th>\n",
       "      <th>date</th>\n",
       "      <th>fund_1</th>\n",
       "      <th>fund_2</th>\n",
       "      <th>fund_3</th>\n",
       "      <th>fund_4</th>\n",
       "    </tr>\n",
       "  </thead>\n",
       "  <tbody>\n",
       "    <tr>\n",
       "      <th>0</th>\n",
       "      <td>2022-10-31</td>\n",
       "      <td>105.6</td>\n",
       "      <td>0.00722</td>\n",
       "      <td>38.62759</td>\n",
       "      <td>0.28989</td>\n",
       "    </tr>\n",
       "    <tr>\n",
       "      <th>1</th>\n",
       "      <td>2022-10-28</td>\n",
       "      <td>98.5</td>\n",
       "      <td>0.01101</td>\n",
       "      <td>37.15620</td>\n",
       "      <td>0.29797</td>\n",
       "    </tr>\n",
       "    <tr>\n",
       "      <th>2</th>\n",
       "      <td>2022-10-27</td>\n",
       "      <td>94.8</td>\n",
       "      <td>0.00455</td>\n",
       "      <td>38.67101</td>\n",
       "      <td>0.30371</td>\n",
       "    </tr>\n",
       "    <tr>\n",
       "      <th>3</th>\n",
       "      <td>2022-10-26</td>\n",
       "      <td>92.2</td>\n",
       "      <td>0.00428</td>\n",
       "      <td>35.57594</td>\n",
       "      <td>0.28366</td>\n",
       "    </tr>\n",
       "    <tr>\n",
       "      <th>4</th>\n",
       "      <td>2022-10-25</td>\n",
       "      <td>92.1</td>\n",
       "      <td>0.00760</td>\n",
       "      <td>33.16893</td>\n",
       "      <td>0.26690</td>\n",
       "    </tr>\n",
       "    <tr>\n",
       "      <th>...</th>\n",
       "      <td>...</td>\n",
       "      <td>...</td>\n",
       "      <td>...</td>\n",
       "      <td>...</td>\n",
       "      <td>...</td>\n",
       "    </tr>\n",
       "    <tr>\n",
       "      <th>769</th>\n",
       "      <td>2019-10-07</td>\n",
       "      <td>13.1</td>\n",
       "      <td>0.01300</td>\n",
       "      <td>29.92481</td>\n",
       "      <td>0.34600</td>\n",
       "    </tr>\n",
       "    <tr>\n",
       "      <th>770</th>\n",
       "      <td>2019-10-04</td>\n",
       "      <td>13.0</td>\n",
       "      <td>0.01467</td>\n",
       "      <td>33.33319</td>\n",
       "      <td>0.36100</td>\n",
       "    </tr>\n",
       "    <tr>\n",
       "      <th>771</th>\n",
       "      <td>2019-10-03</td>\n",
       "      <td>13.0</td>\n",
       "      <td>0.00950</td>\n",
       "      <td>34.15584</td>\n",
       "      <td>0.38813</td>\n",
       "    </tr>\n",
       "    <tr>\n",
       "      <th>772</th>\n",
       "      <td>2019-10-02</td>\n",
       "      <td>12.6</td>\n",
       "      <td>0.00542</td>\n",
       "      <td>31.25465</td>\n",
       "      <td>0.37238</td>\n",
       "    </tr>\n",
       "    <tr>\n",
       "      <th>773</th>\n",
       "      <td>2019-10-01</td>\n",
       "      <td>12.1</td>\n",
       "      <td>0.00650</td>\n",
       "      <td>30.89100</td>\n",
       "      <td>0.36913</td>\n",
       "    </tr>\n",
       "  </tbody>\n",
       "</table>\n",
       "<p>774 rows × 5 columns</p>\n",
       "</div>"
      ],
      "text/plain": [
       "           date  fund_1   fund_2    fund_3   fund_4\n",
       "0    2022-10-31   105.6  0.00722  38.62759  0.28989\n",
       "1    2022-10-28    98.5  0.01101  37.15620  0.29797\n",
       "2    2022-10-27    94.8  0.00455  38.67101  0.30371\n",
       "3    2022-10-26    92.2  0.00428  35.57594  0.28366\n",
       "4    2022-10-25    92.1  0.00760  33.16893  0.26690\n",
       "..          ...     ...      ...       ...      ...\n",
       "769  2019-10-07    13.1  0.01300  29.92481  0.34600\n",
       "770  2019-10-04    13.0  0.01467  33.33319  0.36100\n",
       "771  2019-10-03    13.0  0.00950  34.15584  0.38813\n",
       "772  2019-10-02    12.6  0.00542  31.25465  0.37238\n",
       "773  2019-10-01    12.1  0.00650  30.89100  0.36913\n",
       "\n",
       "[774 rows x 5 columns]"
      ]
     },
     "execution_count": 12,
     "metadata": {},
     "output_type": "execute_result"
    }
   ],
   "source": [
    "fund"
   ]
  },
  {
   "cell_type": "code",
   "execution_count": 13,
   "id": "20bec318",
   "metadata": {},
   "outputs": [],
   "source": [
    "safe_dates = set(safe_1['Date']) & set(safe_2['Date']) & set(safe_3['Date'])\n",
    "\n",
    "safe_1 = safe_1[safe_1['Date'].isin(safe_dates)]\n",
    "safe_2 = safe_2[safe_2['Date'].isin(safe_dates)]\n",
    "safe_3 = safe_3[safe_3['Date'].isin(safe_dates)]\n",
    "\n",
    "safe = pd.DataFrame({'date':safe_1['Date'].values,\n",
    "                     'safe_1':safe_1['SMAVG (50)'].values,\n",
    "                     'safe_2':safe_2['SMAVG (50)'].values,\n",
    "                     'safe_3':safe_3['SMAVG (50)'].values})"
   ]
  },
  {
   "cell_type": "code",
   "execution_count": 14,
   "id": "509ba3cb",
   "metadata": {},
   "outputs": [
    {
     "data": {
      "text/html": [
       "<div>\n",
       "<style scoped>\n",
       "    .dataframe tbody tr th:only-of-type {\n",
       "        vertical-align: middle;\n",
       "    }\n",
       "\n",
       "    .dataframe tbody tr th {\n",
       "        vertical-align: top;\n",
       "    }\n",
       "\n",
       "    .dataframe thead th {\n",
       "        text-align: right;\n",
       "    }\n",
       "</style>\n",
       "<table border=\"1\" class=\"dataframe\">\n",
       "  <thead>\n",
       "    <tr style=\"text-align: right;\">\n",
       "      <th></th>\n",
       "      <th>date</th>\n",
       "      <th>safe_1</th>\n",
       "      <th>safe_2</th>\n",
       "      <th>safe_3</th>\n",
       "    </tr>\n",
       "  </thead>\n",
       "  <tbody>\n",
       "    <tr>\n",
       "      <th>0</th>\n",
       "      <td>2022-11-01</td>\n",
       "      <td>1.946</td>\n",
       "      <td>1681.12</td>\n",
       "      <td>3.646</td>\n",
       "    </tr>\n",
       "    <tr>\n",
       "      <th>1</th>\n",
       "      <td>2022-10-31</td>\n",
       "      <td>1.930</td>\n",
       "      <td>1683.12</td>\n",
       "      <td>3.624</td>\n",
       "    </tr>\n",
       "    <tr>\n",
       "      <th>2</th>\n",
       "      <td>2022-10-28</td>\n",
       "      <td>1.913</td>\n",
       "      <td>1685.17</td>\n",
       "      <td>3.601</td>\n",
       "    </tr>\n",
       "    <tr>\n",
       "      <th>3</th>\n",
       "      <td>2022-10-27</td>\n",
       "      <td>1.895</td>\n",
       "      <td>1687.22</td>\n",
       "      <td>3.579</td>\n",
       "    </tr>\n",
       "    <tr>\n",
       "      <th>4</th>\n",
       "      <td>2022-10-26</td>\n",
       "      <td>1.878</td>\n",
       "      <td>1689.12</td>\n",
       "      <td>3.556</td>\n",
       "    </tr>\n",
       "    <tr>\n",
       "      <th>...</th>\n",
       "      <td>...</td>\n",
       "      <td>...</td>\n",
       "      <td>...</td>\n",
       "      <td>...</td>\n",
       "    </tr>\n",
       "    <tr>\n",
       "      <th>1938</th>\n",
       "      <td>2015-01-08</td>\n",
       "      <td>0.707</td>\n",
       "      <td>1189.93</td>\n",
       "      <td>NaN</td>\n",
       "    </tr>\n",
       "    <tr>\n",
       "      <th>1939</th>\n",
       "      <td>2015-01-07</td>\n",
       "      <td>0.714</td>\n",
       "      <td>1189.73</td>\n",
       "      <td>NaN</td>\n",
       "    </tr>\n",
       "    <tr>\n",
       "      <th>1940</th>\n",
       "      <td>2015-01-06</td>\n",
       "      <td>0.723</td>\n",
       "      <td>1189.75</td>\n",
       "      <td>NaN</td>\n",
       "    </tr>\n",
       "    <tr>\n",
       "      <th>1941</th>\n",
       "      <td>2015-01-05</td>\n",
       "      <td>0.732</td>\n",
       "      <td>1189.94</td>\n",
       "      <td>NaN</td>\n",
       "    </tr>\n",
       "    <tr>\n",
       "      <th>1942</th>\n",
       "      <td>2015-01-02</td>\n",
       "      <td>0.739</td>\n",
       "      <td>1190.38</td>\n",
       "      <td>NaN</td>\n",
       "    </tr>\n",
       "  </tbody>\n",
       "</table>\n",
       "<p>1943 rows × 4 columns</p>\n",
       "</div>"
      ],
      "text/plain": [
       "            date  safe_1   safe_2  safe_3\n",
       "0     2022-11-01   1.946  1681.12   3.646\n",
       "1     2022-10-31   1.930  1683.12   3.624\n",
       "2     2022-10-28   1.913  1685.17   3.601\n",
       "3     2022-10-27   1.895  1687.22   3.579\n",
       "4     2022-10-26   1.878  1689.12   3.556\n",
       "...          ...     ...      ...     ...\n",
       "1938  2015-01-08   0.707  1189.93     NaN\n",
       "1939  2015-01-07   0.714  1189.73     NaN\n",
       "1940  2015-01-06   0.723  1189.75     NaN\n",
       "1941  2015-01-05   0.732  1189.94     NaN\n",
       "1942  2015-01-02   0.739  1190.38     NaN\n",
       "\n",
       "[1943 rows x 4 columns]"
      ]
     },
     "execution_count": 14,
     "metadata": {},
     "output_type": "execute_result"
    }
   ],
   "source": [
    "safe"
   ]
  },
  {
   "cell_type": "code",
   "execution_count": 15,
   "id": "33808e5b",
   "metadata": {},
   "outputs": [
    {
     "data": {
      "text/html": [
       "<div>\n",
       "<style scoped>\n",
       "    .dataframe tbody tr th:only-of-type {\n",
       "        vertical-align: middle;\n",
       "    }\n",
       "\n",
       "    .dataframe tbody tr th {\n",
       "        vertical-align: top;\n",
       "    }\n",
       "\n",
       "    .dataframe thead th {\n",
       "        text-align: right;\n",
       "    }\n",
       "</style>\n",
       "<table border=\"1\" class=\"dataframe\">\n",
       "  <thead>\n",
       "    <tr style=\"text-align: right;\">\n",
       "      <th></th>\n",
       "      <th>Date</th>\n",
       "      <th>VIX Closing</th>\n",
       "      <th>SMAVG (50)</th>\n",
       "      <th>SMAVG (100)</th>\n",
       "      <th>SMAVG (250)</th>\n",
       "    </tr>\n",
       "  </thead>\n",
       "  <tbody>\n",
       "    <tr>\n",
       "      <th>0</th>\n",
       "      <td>2022-11-01</td>\n",
       "      <td>25.88</td>\n",
       "      <td>28.04</td>\n",
       "      <td>26.55</td>\n",
       "      <td>25.23</td>\n",
       "    </tr>\n",
       "    <tr>\n",
       "      <th>1</th>\n",
       "      <td>2022-10-31</td>\n",
       "      <td>25.75</td>\n",
       "      <td>27.93</td>\n",
       "      <td>26.53</td>\n",
       "      <td>25.19</td>\n",
       "    </tr>\n",
       "    <tr>\n",
       "      <th>2</th>\n",
       "      <td>2022-10-28</td>\n",
       "      <td>27.39</td>\n",
       "      <td>27.81</td>\n",
       "      <td>26.51</td>\n",
       "      <td>25.15</td>\n",
       "    </tr>\n",
       "    <tr>\n",
       "      <th>3</th>\n",
       "      <td>2022-10-27</td>\n",
       "      <td>27.28</td>\n",
       "      <td>27.66</td>\n",
       "      <td>26.49</td>\n",
       "      <td>25.11</td>\n",
       "    </tr>\n",
       "    <tr>\n",
       "      <th>4</th>\n",
       "      <td>2022-10-26</td>\n",
       "      <td>28.46</td>\n",
       "      <td>27.51</td>\n",
       "      <td>26.46</td>\n",
       "      <td>25.07</td>\n",
       "    </tr>\n",
       "    <tr>\n",
       "      <th>...</th>\n",
       "      <td>...</td>\n",
       "      <td>...</td>\n",
       "      <td>...</td>\n",
       "      <td>...</td>\n",
       "      <td>...</td>\n",
       "    </tr>\n",
       "    <tr>\n",
       "      <th>3415</th>\n",
       "      <td>2009-04-09</td>\n",
       "      <td>38.85</td>\n",
       "      <td>NaN</td>\n",
       "      <td>NaN</td>\n",
       "      <td>NaN</td>\n",
       "    </tr>\n",
       "    <tr>\n",
       "      <th>3416</th>\n",
       "      <td>2009-04-08</td>\n",
       "      <td>40.39</td>\n",
       "      <td>NaN</td>\n",
       "      <td>NaN</td>\n",
       "      <td>NaN</td>\n",
       "    </tr>\n",
       "    <tr>\n",
       "      <th>3417</th>\n",
       "      <td>2009-04-07</td>\n",
       "      <td>40.93</td>\n",
       "      <td>NaN</td>\n",
       "      <td>NaN</td>\n",
       "      <td>NaN</td>\n",
       "    </tr>\n",
       "    <tr>\n",
       "      <th>3418</th>\n",
       "      <td>2009-04-06</td>\n",
       "      <td>39.70</td>\n",
       "      <td>NaN</td>\n",
       "      <td>NaN</td>\n",
       "      <td>NaN</td>\n",
       "    </tr>\n",
       "    <tr>\n",
       "      <th>3419</th>\n",
       "      <td>2009-04-03</td>\n",
       "      <td>42.04</td>\n",
       "      <td>NaN</td>\n",
       "      <td>NaN</td>\n",
       "      <td>NaN</td>\n",
       "    </tr>\n",
       "  </tbody>\n",
       "</table>\n",
       "<p>3420 rows × 5 columns</p>\n",
       "</div>"
      ],
      "text/plain": [
       "            Date  VIX Closing  SMAVG (50)  SMAVG (100)  SMAVG (250)\n",
       "0     2022-11-01        25.88       28.04        26.55        25.23\n",
       "1     2022-10-31        25.75       27.93        26.53        25.19\n",
       "2     2022-10-28        27.39       27.81        26.51        25.15\n",
       "3     2022-10-27        27.28       27.66        26.49        25.11\n",
       "4     2022-10-26        28.46       27.51        26.46        25.07\n",
       "...          ...          ...         ...          ...          ...\n",
       "3415  2009-04-09        38.85         NaN          NaN          NaN\n",
       "3416  2009-04-08        40.39         NaN          NaN          NaN\n",
       "3417  2009-04-07        40.93         NaN          NaN          NaN\n",
       "3418  2009-04-06        39.70         NaN          NaN          NaN\n",
       "3419  2009-04-03        42.04         NaN          NaN          NaN\n",
       "\n",
       "[3420 rows x 5 columns]"
      ]
     },
     "execution_count": 15,
     "metadata": {},
     "output_type": "execute_result"
    }
   ],
   "source": [
    "vol_6"
   ]
  },
  {
   "cell_type": "code",
   "execution_count": 16,
   "id": "8686de99",
   "metadata": {},
   "outputs": [],
   "source": [
    "vol_dates = set(vol_1['Date']) & set(vol_2['Date']) & set(vol_6['Date'])\n",
    "\n",
    "vol_1 = vol_1[vol_1['Date'].isin(vol_dates)]\n",
    "vol_2 = vol_2[vol_2['Date'].isin(vol_dates)]\n",
    "vol_6 = vol_6[vol_6['Date'].isin(vol_dates)]\n",
    "\n",
    "vol = pd.DataFrame({'date':vol_1['Date'].values,\n",
    "                    'vol_1':vol_1['SMAVG (50)'].values,\n",
    "                    'vol_2':vol_2['SMAVG (50)'].values,\n",
    "                    'vol_3':vol_6['SMAVG (50)'].values})"
   ]
  },
  {
   "cell_type": "code",
   "execution_count": 17,
   "id": "a0e6670f",
   "metadata": {},
   "outputs": [
    {
     "data": {
      "text/html": [
       "<div>\n",
       "<style scoped>\n",
       "    .dataframe tbody tr th:only-of-type {\n",
       "        vertical-align: middle;\n",
       "    }\n",
       "\n",
       "    .dataframe tbody tr th {\n",
       "        vertical-align: top;\n",
       "    }\n",
       "\n",
       "    .dataframe thead th {\n",
       "        text-align: right;\n",
       "    }\n",
       "</style>\n",
       "<table border=\"1\" class=\"dataframe\">\n",
       "  <thead>\n",
       "    <tr style=\"text-align: right;\">\n",
       "      <th></th>\n",
       "      <th>date</th>\n",
       "      <th>vol_1</th>\n",
       "      <th>vol_2</th>\n",
       "      <th>vol_3</th>\n",
       "    </tr>\n",
       "  </thead>\n",
       "  <tbody>\n",
       "    <tr>\n",
       "      <th>0</th>\n",
       "      <td>2022-11-01</td>\n",
       "      <td>28.1253</td>\n",
       "      <td>10.77565</td>\n",
       "      <td>28.04</td>\n",
       "    </tr>\n",
       "    <tr>\n",
       "      <th>1</th>\n",
       "      <td>2022-10-31</td>\n",
       "      <td>28.1761</td>\n",
       "      <td>10.76940</td>\n",
       "      <td>27.93</td>\n",
       "    </tr>\n",
       "    <tr>\n",
       "      <th>2</th>\n",
       "      <td>2022-10-28</td>\n",
       "      <td>28.1699</td>\n",
       "      <td>10.76865</td>\n",
       "      <td>27.81</td>\n",
       "    </tr>\n",
       "    <tr>\n",
       "      <th>3</th>\n",
       "      <td>2022-10-27</td>\n",
       "      <td>28.1058</td>\n",
       "      <td>10.76535</td>\n",
       "      <td>27.66</td>\n",
       "    </tr>\n",
       "    <tr>\n",
       "      <th>4</th>\n",
       "      <td>2022-10-26</td>\n",
       "      <td>28.0217</td>\n",
       "      <td>10.75545</td>\n",
       "      <td>27.51</td>\n",
       "    </tr>\n",
       "    <tr>\n",
       "      <th>...</th>\n",
       "      <td>...</td>\n",
       "      <td>...</td>\n",
       "      <td>...</td>\n",
       "      <td>...</td>\n",
       "    </tr>\n",
       "    <tr>\n",
       "      <th>3212</th>\n",
       "      <td>2009-11-23</td>\n",
       "      <td>26.8314</td>\n",
       "      <td>NaN</td>\n",
       "      <td>24.27</td>\n",
       "    </tr>\n",
       "    <tr>\n",
       "      <th>3213</th>\n",
       "      <td>2009-11-20</td>\n",
       "      <td>26.8150</td>\n",
       "      <td>NaN</td>\n",
       "      <td>24.30</td>\n",
       "    </tr>\n",
       "    <tr>\n",
       "      <th>3214</th>\n",
       "      <td>2009-11-19</td>\n",
       "      <td>26.8032</td>\n",
       "      <td>NaN</td>\n",
       "      <td>24.32</td>\n",
       "    </tr>\n",
       "    <tr>\n",
       "      <th>3215</th>\n",
       "      <td>2009-11-18</td>\n",
       "      <td>26.8216</td>\n",
       "      <td>NaN</td>\n",
       "      <td>24.38</td>\n",
       "    </tr>\n",
       "    <tr>\n",
       "      <th>3216</th>\n",
       "      <td>2009-11-17</td>\n",
       "      <td>26.8368</td>\n",
       "      <td>NaN</td>\n",
       "      <td>24.44</td>\n",
       "    </tr>\n",
       "  </tbody>\n",
       "</table>\n",
       "<p>3217 rows × 4 columns</p>\n",
       "</div>"
      ],
      "text/plain": [
       "            date    vol_1     vol_2  vol_3\n",
       "0     2022-11-01  28.1253  10.77565  28.04\n",
       "1     2022-10-31  28.1761  10.76940  27.93\n",
       "2     2022-10-28  28.1699  10.76865  27.81\n",
       "3     2022-10-27  28.1058  10.76535  27.66\n",
       "4     2022-10-26  28.0217  10.75545  27.51\n",
       "...          ...      ...       ...    ...\n",
       "3212  2009-11-23  26.8314       NaN  24.27\n",
       "3213  2009-11-20  26.8150       NaN  24.30\n",
       "3214  2009-11-19  26.8032       NaN  24.32\n",
       "3215  2009-11-18  26.8216       NaN  24.38\n",
       "3216  2009-11-17  26.8368       NaN  24.44\n",
       "\n",
       "[3217 rows x 4 columns]"
      ]
     },
     "execution_count": 17,
     "metadata": {},
     "output_type": "execute_result"
    }
   ],
   "source": [
    "vol"
   ]
  },
  {
   "cell_type": "code",
   "execution_count": 18,
   "id": "77f09979",
   "metadata": {},
   "outputs": [],
   "source": [
    "# z-scores need to be converted to categorical variables for knn\n",
    "\n",
    "z_score_1_name = [str(z) for z in stox['zscore_1']]\n",
    "z_score_2_name = [str(z) for z in stox['zscore_2']]\n",
    "z_score_3_name = [str(z) for z in stox['zscore_3']]\n",
    "\n",
    "stox['zscore_1_name'] = z_score_1_name\n",
    "stox['zscore_2_name'] = z_score_2_name\n",
    "stox['zscore_3_name'] = z_score_3_name"
   ]
  },
  {
   "cell_type": "code",
   "execution_count": 19,
   "id": "3fe0516b",
   "metadata": {},
   "outputs": [
    {
     "data": {
      "text/plain": [
       "array(['nan', '0.25', '0.0', ..., '-2.0', '-1.5', '2.5'], dtype=object)"
      ]
     },
     "execution_count": 19,
     "metadata": {},
     "output_type": "execute_result"
    }
   ],
   "source": [
    "stox['zscore_1_name'].values"
   ]
  },
  {
   "cell_type": "code",
   "execution_count": 20,
   "id": "5f16d57a",
   "metadata": {},
   "outputs": [],
   "source": [
    "import numpy as np\n",
    "\n",
    "def training_set(date, data):\n",
    "    if date in data['date'].values:\n",
    "        span = int(np.floor(len(data)/3)) # 5 chosen randomly!\n",
    "        date_index = data.loc[data['date']==date].index.values[0]\n",
    "        train = data.loc[data.index[date_index:date_index+span]]\n",
    "        return train\n",
    "    else:\n",
    "        print('tried to get training set for date that is not in dataset')"
   ]
  },
  {
   "cell_type": "code",
   "execution_count": 21,
   "id": "03970901",
   "metadata": {},
   "outputs": [],
   "source": [
    "def training_set_stox(date, span):\n",
    "    if date in stox['date'].values:\n",
    "        date_index = stox.loc[stox['date']==date].index.values[0]\n",
    "        train = stox.loc[stox.index[np.max([0,date_index-span]):date_index]]\n",
    "        return train\n",
    "    else:\n",
    "        print('tried to get training set for date that is not in stocks dataset')"
   ]
  },
  {
   "cell_type": "code",
   "execution_count": 22,
   "id": "6c14586e",
   "metadata": {},
   "outputs": [],
   "source": [
    "from sklearn.neighbors import KNeighborsClassifier\n",
    "\n",
    "knn_cred = KNeighborsClassifier(10) #10 chosen randomly; just trying to get things to work\n",
    "knn_fund = KNeighborsClassifier(10)\n",
    "knn_vol = KNeighborsClassifier(10)\n",
    "knn_safe = KNeighborsClassifier(10)"
   ]
  },
  {
   "cell_type": "code",
   "execution_count": 23,
   "id": "b43cc11b",
   "metadata": {},
   "outputs": [],
   "source": [
    "def intersection(lst1, lst2):\n",
    "    return list(set(lst1) & set(lst2))"
   ]
  },
  {
   "cell_type": "code",
   "execution_count": 24,
   "id": "08f67b31",
   "metadata": {},
   "outputs": [
    {
     "ename": "NameError",
     "evalue": "name 'test_train_fund' is not defined",
     "output_type": "error",
     "traceback": [
      "\u001b[0;31m---------------------------------------------------------------------------\u001b[0m",
      "\u001b[0;31mNameError\u001b[0m                                 Traceback (most recent call last)",
      "\u001b[0;32m<ipython-input-24-bb23d5e33091>\u001b[0m in \u001b[0;36m<module>\u001b[0;34m\u001b[0m\n\u001b[1;32m      2\u001b[0m \u001b[0;34m\u001b[0m\u001b[0m\n\u001b[1;32m      3\u001b[0m \u001b[0mtrain_a\u001b[0m \u001b[0;34m=\u001b[0m \u001b[0mtraining_set\u001b[0m\u001b[0;34m(\u001b[0m\u001b[0;34m'2020-11-20'\u001b[0m\u001b[0;34m,\u001b[0m \u001b[0mfund\u001b[0m\u001b[0;34m)\u001b[0m\u001b[0;34m\u001b[0m\u001b[0;34m\u001b[0m\u001b[0m\n\u001b[0;32m----> 4\u001b[0;31m \u001b[0mstox_a\u001b[0m \u001b[0;34m=\u001b[0m \u001b[0mstox\u001b[0m\u001b[0;34m.\u001b[0m\u001b[0mloc\u001b[0m\u001b[0;34m[\u001b[0m\u001b[0mstox\u001b[0m\u001b[0;34m[\u001b[0m\u001b[0;34m'date'\u001b[0m\u001b[0;34m]\u001b[0m\u001b[0;34m.\u001b[0m\u001b[0misin\u001b[0m\u001b[0;34m(\u001b[0m\u001b[0mtest_train_fund\u001b[0m\u001b[0;34m[\u001b[0m\u001b[0;34m'date'\u001b[0m\u001b[0;34m]\u001b[0m\u001b[0;34m)\u001b[0m\u001b[0;34m]\u001b[0m\u001b[0;34m\u001b[0m\u001b[0;34m\u001b[0m\u001b[0m\n\u001b[0m\u001b[1;32m      5\u001b[0m \u001b[0mtest_dates\u001b[0m \u001b[0;34m=\u001b[0m \u001b[0mintersection\u001b[0m\u001b[0;34m(\u001b[0m\u001b[0mtrain_a\u001b[0m\u001b[0;34m[\u001b[0m\u001b[0;34m'date'\u001b[0m\u001b[0;34m]\u001b[0m\u001b[0;34m.\u001b[0m\u001b[0mvalues\u001b[0m\u001b[0;34m,\u001b[0m \u001b[0mstox_a\u001b[0m\u001b[0;34m[\u001b[0m\u001b[0;34m'date'\u001b[0m\u001b[0;34m]\u001b[0m\u001b[0;34m.\u001b[0m\u001b[0mvalues\u001b[0m\u001b[0;34m)\u001b[0m\u001b[0;34m\u001b[0m\u001b[0;34m\u001b[0m\u001b[0m\n\u001b[1;32m      6\u001b[0m \u001b[0;34m\u001b[0m\u001b[0m\n",
      "\u001b[0;31mNameError\u001b[0m: name 'test_train_fund' is not defined"
     ]
    }
   ],
   "source": [
    "#let's do a test run\n",
    "\n",
    "train_a = training_set('2020-11-20', fund)\n",
    "stox_a = stox.loc[stox['date'].isin(test_train_fund['date'])]\n",
    "test_dates = intersection(train_a['date'].values, stox_a['date'].values)\n",
    "\n",
    "test_train_fund = train_a.loc[train_a['date'].isin(test_dates)]\n",
    "test_train_stox = stox_a.loc[stox_a['date'].isin(test_dates)]"
   ]
  },
  {
   "cell_type": "code",
   "execution_count": 25,
   "id": "3ff633c1",
   "metadata": {},
   "outputs": [
    {
     "ename": "NameError",
     "evalue": "name 'test_train_fund' is not defined",
     "output_type": "error",
     "traceback": [
      "\u001b[0;31m---------------------------------------------------------------------------\u001b[0m",
      "\u001b[0;31mNameError\u001b[0m                                 Traceback (most recent call last)",
      "\u001b[0;32m<ipython-input-25-208bf4c8b35e>\u001b[0m in \u001b[0;36m<module>\u001b[0;34m\u001b[0m\n\u001b[0;32m----> 1\u001b[0;31m \u001b[0mknn_fund\u001b[0m\u001b[0;34m.\u001b[0m\u001b[0mfit\u001b[0m\u001b[0;34m(\u001b[0m\u001b[0mtest_train_fund\u001b[0m\u001b[0;34m[\u001b[0m\u001b[0;34m[\u001b[0m\u001b[0;34m'fund_1'\u001b[0m\u001b[0;34m,\u001b[0m\u001b[0;34m'fund_2'\u001b[0m\u001b[0;34m,\u001b[0m\u001b[0;34m'fund_3'\u001b[0m\u001b[0;34m,\u001b[0m\u001b[0;34m'fund_4'\u001b[0m\u001b[0;34m]\u001b[0m\u001b[0;34m]\u001b[0m\u001b[0;34m.\u001b[0m\u001b[0mdropna\u001b[0m\u001b[0;34m(\u001b[0m\u001b[0;34m)\u001b[0m\u001b[0;34m,\u001b[0m \u001b[0mtest_train_stox\u001b[0m\u001b[0;34m[\u001b[0m\u001b[0;34m'zscore_1_name'\u001b[0m\u001b[0;34m]\u001b[0m\u001b[0;34m.\u001b[0m\u001b[0mdropna\u001b[0m\u001b[0;34m(\u001b[0m\u001b[0;34m)\u001b[0m\u001b[0;34m)\u001b[0m\u001b[0;34m\u001b[0m\u001b[0;34m\u001b[0m\u001b[0m\n\u001b[0m",
      "\u001b[0;31mNameError\u001b[0m: name 'test_train_fund' is not defined"
     ]
    }
   ],
   "source": [
    "knn_fund.fit(test_train_fund[['fund_1','fund_2','fund_3','fund_4']].dropna(), test_train_stox['zscore_1_name'].dropna())"
   ]
  },
  {
   "cell_type": "code",
   "execution_count": 26,
   "id": "fa5d60c2",
   "metadata": {},
   "outputs": [
    {
     "ename": "NameError",
     "evalue": "name 'test_train_fund' is not defined",
     "output_type": "error",
     "traceback": [
      "\u001b[0;31m---------------------------------------------------------------------------\u001b[0m",
      "\u001b[0;31mNameError\u001b[0m                                 Traceback (most recent call last)",
      "\u001b[0;32m<ipython-input-26-e9ca92d0f371>\u001b[0m in \u001b[0;36m<module>\u001b[0;34m\u001b[0m\n\u001b[0;32m----> 1\u001b[0;31m \u001b[0mpred\u001b[0m \u001b[0;34m=\u001b[0m \u001b[0mknn_fund\u001b[0m\u001b[0;34m.\u001b[0m\u001b[0mpredict\u001b[0m\u001b[0;34m(\u001b[0m\u001b[0mtest_train_fund\u001b[0m\u001b[0;34m[\u001b[0m\u001b[0;34m[\u001b[0m\u001b[0;34m'fund_1'\u001b[0m\u001b[0;34m,\u001b[0m\u001b[0;34m'fund_2'\u001b[0m\u001b[0;34m,\u001b[0m\u001b[0;34m'fund_3'\u001b[0m\u001b[0;34m,\u001b[0m\u001b[0;34m'fund_4'\u001b[0m\u001b[0;34m]\u001b[0m\u001b[0;34m]\u001b[0m\u001b[0;34m.\u001b[0m\u001b[0mdropna\u001b[0m\u001b[0;34m(\u001b[0m\u001b[0;34m)\u001b[0m\u001b[0;34m)\u001b[0m\u001b[0;34m\u001b[0m\u001b[0;34m\u001b[0m\u001b[0m\n\u001b[0m",
      "\u001b[0;31mNameError\u001b[0m: name 'test_train_fund' is not defined"
     ]
    }
   ],
   "source": [
    "pred = knn_fund.predict(test_train_fund[['fund_1','fund_2','fund_3','fund_4']].dropna())"
   ]
  },
  {
   "cell_type": "code",
   "execution_count": 27,
   "id": "2b4fc48b",
   "metadata": {},
   "outputs": [],
   "source": [
    "def accuracy(true, predicted):\n",
    "    predicted_floats = [float(t) for t in predicted]\n",
    "    return np.sum(true==predicted_floats)/len(predicted)"
   ]
  },
  {
   "cell_type": "code",
   "execution_count": 28,
   "id": "37bf6c4a",
   "metadata": {},
   "outputs": [
    {
     "ename": "NameError",
     "evalue": "name 'test_train_stox' is not defined",
     "output_type": "error",
     "traceback": [
      "\u001b[0;31m---------------------------------------------------------------------------\u001b[0m",
      "\u001b[0;31mNameError\u001b[0m                                 Traceback (most recent call last)",
      "\u001b[0;32m<ipython-input-28-3281c39f0e28>\u001b[0m in \u001b[0;36m<module>\u001b[0;34m\u001b[0m\n\u001b[0;32m----> 1\u001b[0;31m \u001b[0mprint\u001b[0m\u001b[0;34m(\u001b[0m\u001b[0maccuracy\u001b[0m\u001b[0;34m(\u001b[0m\u001b[0mtest_train_stox\u001b[0m\u001b[0;34m[\u001b[0m\u001b[0;34m'zscore_1'\u001b[0m\u001b[0;34m]\u001b[0m\u001b[0;34m,\u001b[0m\u001b[0mpred\u001b[0m\u001b[0;34m)\u001b[0m\u001b[0;34m)\u001b[0m\u001b[0;34m\u001b[0m\u001b[0;34m\u001b[0m\u001b[0m\n\u001b[0m",
      "\u001b[0;31mNameError\u001b[0m: name 'test_train_stox' is not defined"
     ]
    }
   ],
   "source": [
    "print(accuracy(test_train_stox['zscore_1'],pred))"
   ]
  },
  {
   "cell_type": "code",
   "execution_count": 29,
   "id": "47f6587b",
   "metadata": {},
   "outputs": [
    {
     "ename": "ValueError",
     "evalue": "Expected n_neighbors <= n_samples,  but n_samples = 7, n_neighbors = 8",
     "output_type": "error",
     "traceback": [
      "\u001b[0;31m---------------------------------------------------------------------------\u001b[0m",
      "\u001b[0;31mValueError\u001b[0m                                Traceback (most recent call last)",
      "\u001b[0;32m<ipython-input-29-d8fc3d0c95e6>\u001b[0m in \u001b[0;36m<module>\u001b[0;34m\u001b[0m\n\u001b[1;32m     19\u001b[0m     \u001b[0mknn_fund_3\u001b[0m\u001b[0;34m.\u001b[0m\u001b[0mfit\u001b[0m\u001b[0;34m(\u001b[0m\u001b[0mX_train\u001b[0m\u001b[0;34m[\u001b[0m\u001b[0;34m[\u001b[0m\u001b[0;34m'fund_1'\u001b[0m\u001b[0;34m,\u001b[0m \u001b[0;34m'fund_2'\u001b[0m\u001b[0;34m,\u001b[0m \u001b[0;34m'fund_3'\u001b[0m\u001b[0;34m,\u001b[0m \u001b[0;34m'fund_4'\u001b[0m\u001b[0;34m]\u001b[0m\u001b[0;34m]\u001b[0m\u001b[0;34m,\u001b[0m \u001b[0my_train\u001b[0m\u001b[0;34m[\u001b[0m\u001b[0;34m'zscore_3_name'\u001b[0m\u001b[0;34m]\u001b[0m\u001b[0;34m)\u001b[0m\u001b[0;34m\u001b[0m\u001b[0;34m\u001b[0m\u001b[0m\n\u001b[1;32m     20\u001b[0m \u001b[0;34m\u001b[0m\u001b[0m\n\u001b[0;32m---> 21\u001b[0;31m     \u001b[0mpred_1\u001b[0m \u001b[0;34m=\u001b[0m \u001b[0mknn_fund_1\u001b[0m\u001b[0;34m.\u001b[0m\u001b[0mpredict\u001b[0m\u001b[0;34m(\u001b[0m\u001b[0mX_train\u001b[0m\u001b[0;34m[\u001b[0m\u001b[0;34m[\u001b[0m\u001b[0;34m'fund_1'\u001b[0m\u001b[0;34m,\u001b[0m \u001b[0;34m'fund_2'\u001b[0m\u001b[0;34m,\u001b[0m \u001b[0;34m'fund_3'\u001b[0m\u001b[0;34m,\u001b[0m \u001b[0;34m'fund_4'\u001b[0m\u001b[0;34m]\u001b[0m\u001b[0;34m]\u001b[0m\u001b[0;34m)\u001b[0m\u001b[0;34m\u001b[0m\u001b[0;34m\u001b[0m\u001b[0m\n\u001b[0m\u001b[1;32m     22\u001b[0m     \u001b[0mpred_2\u001b[0m \u001b[0;34m=\u001b[0m \u001b[0mknn_fund_2\u001b[0m\u001b[0;34m.\u001b[0m\u001b[0mpredict\u001b[0m\u001b[0;34m(\u001b[0m\u001b[0mX_train\u001b[0m\u001b[0;34m[\u001b[0m\u001b[0;34m[\u001b[0m\u001b[0;34m'fund_1'\u001b[0m\u001b[0;34m,\u001b[0m \u001b[0;34m'fund_2'\u001b[0m\u001b[0;34m,\u001b[0m \u001b[0;34m'fund_3'\u001b[0m\u001b[0;34m,\u001b[0m \u001b[0;34m'fund_4'\u001b[0m\u001b[0;34m]\u001b[0m\u001b[0;34m]\u001b[0m\u001b[0;34m)\u001b[0m\u001b[0;34m\u001b[0m\u001b[0;34m\u001b[0m\u001b[0m\n\u001b[1;32m     23\u001b[0m     \u001b[0mpred_3\u001b[0m \u001b[0;34m=\u001b[0m \u001b[0mknn_fund_3\u001b[0m\u001b[0;34m.\u001b[0m\u001b[0mpredict\u001b[0m\u001b[0;34m(\u001b[0m\u001b[0mX_train\u001b[0m\u001b[0;34m[\u001b[0m\u001b[0;34m[\u001b[0m\u001b[0;34m'fund_1'\u001b[0m\u001b[0;34m,\u001b[0m \u001b[0;34m'fund_2'\u001b[0m\u001b[0;34m,\u001b[0m \u001b[0;34m'fund_3'\u001b[0m\u001b[0;34m,\u001b[0m \u001b[0;34m'fund_4'\u001b[0m\u001b[0;34m]\u001b[0m\u001b[0;34m]\u001b[0m\u001b[0;34m)\u001b[0m\u001b[0;34m\u001b[0m\u001b[0;34m\u001b[0m\u001b[0m\n",
      "\u001b[0;32m~/miniconda3/lib/python3.9/site-packages/sklearn/neighbors/_classification.py\u001b[0m in \u001b[0;36mpredict\u001b[0;34m(self, X)\u001b[0m\n\u001b[1;32m    224\u001b[0m             \u001b[0;31m# In that case, we do not need the distances to perform\u001b[0m\u001b[0;34m\u001b[0m\u001b[0;34m\u001b[0m\u001b[0m\n\u001b[1;32m    225\u001b[0m             \u001b[0;31m# the weighting so we do not compute them.\u001b[0m\u001b[0;34m\u001b[0m\u001b[0;34m\u001b[0m\u001b[0m\n\u001b[0;32m--> 226\u001b[0;31m             \u001b[0mneigh_ind\u001b[0m \u001b[0;34m=\u001b[0m \u001b[0mself\u001b[0m\u001b[0;34m.\u001b[0m\u001b[0mkneighbors\u001b[0m\u001b[0;34m(\u001b[0m\u001b[0mX\u001b[0m\u001b[0;34m,\u001b[0m \u001b[0mreturn_distance\u001b[0m\u001b[0;34m=\u001b[0m\u001b[0;32mFalse\u001b[0m\u001b[0;34m)\u001b[0m\u001b[0;34m\u001b[0m\u001b[0;34m\u001b[0m\u001b[0m\n\u001b[0m\u001b[1;32m    227\u001b[0m             \u001b[0mneigh_dist\u001b[0m \u001b[0;34m=\u001b[0m \u001b[0;32mNone\u001b[0m\u001b[0;34m\u001b[0m\u001b[0;34m\u001b[0m\u001b[0m\n\u001b[1;32m    228\u001b[0m         \u001b[0;32melse\u001b[0m\u001b[0;34m:\u001b[0m\u001b[0;34m\u001b[0m\u001b[0;34m\u001b[0m\u001b[0m\n",
      "\u001b[0;32m~/miniconda3/lib/python3.9/site-packages/sklearn/neighbors/_base.py\u001b[0m in \u001b[0;36mkneighbors\u001b[0;34m(self, X, n_neighbors, return_distance)\u001b[0m\n\u001b[1;32m    747\u001b[0m         \u001b[0mn_samples_fit\u001b[0m \u001b[0;34m=\u001b[0m \u001b[0mself\u001b[0m\u001b[0;34m.\u001b[0m\u001b[0mn_samples_fit_\u001b[0m\u001b[0;34m\u001b[0m\u001b[0;34m\u001b[0m\u001b[0m\n\u001b[1;32m    748\u001b[0m         \u001b[0;32mif\u001b[0m \u001b[0mn_neighbors\u001b[0m \u001b[0;34m>\u001b[0m \u001b[0mn_samples_fit\u001b[0m\u001b[0;34m:\u001b[0m\u001b[0;34m\u001b[0m\u001b[0;34m\u001b[0m\u001b[0m\n\u001b[0;32m--> 749\u001b[0;31m             raise ValueError(\n\u001b[0m\u001b[1;32m    750\u001b[0m                 \u001b[0;34m\"Expected n_neighbors <= n_samples, \"\u001b[0m\u001b[0;34m\u001b[0m\u001b[0;34m\u001b[0m\u001b[0m\n\u001b[1;32m    751\u001b[0m                 \u001b[0;34m\" but n_samples = %d, n_neighbors = %d\"\u001b[0m \u001b[0;34m%\u001b[0m \u001b[0;34m(\u001b[0m\u001b[0mn_samples_fit\u001b[0m\u001b[0;34m,\u001b[0m \u001b[0mn_neighbors\u001b[0m\u001b[0;34m)\u001b[0m\u001b[0;34m\u001b[0m\u001b[0;34m\u001b[0m\u001b[0m\n",
      "\u001b[0;31mValueError\u001b[0m: Expected n_neighbors <= n_samples,  but n_samples = 7, n_neighbors = 8"
     ]
    }
   ],
   "source": [
    "knn_fund_1 = KNeighborsClassifier(8)\n",
    "knn_fund_2 = KNeighborsClassifier(8)\n",
    "knn_fund_3 = KNeighborsClassifier(8)\n",
    "\n",
    "acc_1 = []\n",
    "acc_2 = []\n",
    "acc_3 = []\n",
    "\n",
    "for date in fund['date']:\n",
    "    X_train_a = training_set(date, fund)\n",
    "    y_train_a = stox.loc[stox['date'].isin(X_train_a['date'])]\n",
    "    train_dates = intersection(X_train_a.dropna()['date'].values, y_train_a.dropna()['date'].values)\n",
    "    \n",
    "    X_train = X_train_a.loc[X_train_a['date'].isin(train_dates)]\n",
    "    y_train = y_train_a.loc[y_train_a['date'].isin(train_dates)]\n",
    "    \n",
    "    knn_fund_1.fit(X_train[['fund_1', 'fund_2', 'fund_3', 'fund_4']], y_train['zscore_1_name'])\n",
    "    knn_fund_2.fit(X_train[['fund_1', 'fund_2', 'fund_3', 'fund_4']], y_train['zscore_2_name'])\n",
    "    knn_fund_3.fit(X_train[['fund_1', 'fund_2', 'fund_3', 'fund_4']], y_train['zscore_3_name'])\n",
    "    \n",
    "    pred_1 = knn_fund_1.predict(X_train[['fund_1', 'fund_2', 'fund_3', 'fund_4']])\n",
    "    pred_2 = knn_fund_2.predict(X_train[['fund_1', 'fund_2', 'fund_3', 'fund_4']])\n",
    "    pred_3 = knn_fund_3.predict(X_train[['fund_1', 'fund_2', 'fund_3', 'fund_4']])\n",
    "    \n",
    "    acc_1.append(accuracy(y_train['zscore_1'],pred_1))\n",
    "    acc_2.append(accuracy(y_train['zscore_2'],pred_2))\n",
    "    acc_3.append(accuracy(y_train['zscore_3'],pred_3))"
   ]
  },
  {
   "cell_type": "code",
   "execution_count": 55,
   "id": "e5d8b2ea",
   "metadata": {},
   "outputs": [
    {
     "name": "stdout",
     "output_type": "stream",
     "text": [
      "error for zscore 1 accuracies\n",
      "error for zscore 2 accuracies\n",
      "error for zscore 3 accuracies\n",
      "error for zscore 1 accuracies\n",
      "error for zscore 2 accuracies\n",
      "error for zscore 3 accuracies\n",
      "error for zscore 1 accuracies\n",
      "error for zscore 2 accuracies\n",
      "error for zscore 3 accuracies\n",
      "error for zscore 1 accuracies\n",
      "error for zscore 2 accuracies\n",
      "error for zscore 3 accuracies\n",
      "error for zscore 1 accuracies\n",
      "error for zscore 2 accuracies\n",
      "error for zscore 3 accuracies\n",
      "error for zscore 1 accuracies\n",
      "error for zscore 2 accuracies\n",
      "error for zscore 3 accuracies\n",
      "error for zscore 1 accuracies\n",
      "error for zscore 2 accuracies\n",
      "error for zscore 3 accuracies\n"
     ]
    }
   ],
   "source": [
    "knn_cred_1 = KNeighborsClassifier(8)\n",
    "knn_cred_2 = KNeighborsClassifier(8)\n",
    "knn_cred_3 = KNeighborsClassifier(8)\n",
    "\n",
    "cred_acc_1 = []\n",
    "cred_dates_1 = []\n",
    "\n",
    "cred_acc_2 = []\n",
    "cred_dates_2 = []\n",
    "\n",
    "cred_acc_3 = []\n",
    "cred_dates_3 = []\n",
    "\n",
    "for date in cred['date']:\n",
    "    X_train_a = training_set(date, cred)\n",
    "    y_train_a = stox.loc[stox['date'].isin(X_train_a['date'])]\n",
    "    train_dates = intersection(X_train_a.dropna()['date'].values, y_train_a.dropna()['date'].values)\n",
    "    \n",
    "    X_train = X_train_a.loc[X_train_a['date'].isin(train_dates)]\n",
    "    y_train = y_train_a.loc[y_train_a['date'].isin(train_dates)]\n",
    "    \n",
    "    knn_cred_1.fit(X_train[['cred_1', 'cred_2', 'cred_3', 'cred_4']], y_train['zscore_1_name'])\n",
    "    knn_cred_2.fit(X_train[['cred_1', 'cred_2', 'cred_3', 'cred_4']], y_train['zscore_2_name'])\n",
    "    knn_cred_3.fit(X_train[['cred_1', 'cred_2', 'cred_3', 'cred_4']], y_train['zscore_3_name'])\n",
    "    \n",
    "    try:\n",
    "        pred_1 = knn_cred_1.predict(X_train[['cred_1', 'cred_2', 'cred_3', 'cred_4']])\n",
    "        cred_acc_1.append(accuracy(y_train['zscore_1'],pred_1))\n",
    "        cred_dates_1.append(date)\n",
    "    except:\n",
    "        print('error for zscore 1 accuracies')\n",
    "        cred_acc_1.append(0)\n",
    "        cred_dates_1.append(date)\n",
    "    \n",
    "    try:\n",
    "        pred_2 = knn_cred_2.predict(X_train[['cred_1', 'cred_2', 'cred_3', 'cred_4']])\n",
    "        cred_acc_2.append(accuracy(y_train['zscore_2'],pred_2))\n",
    "        cred_dates_2.append(date)\n",
    "    except:\n",
    "        print('error for zscore 2 accuracies')\n",
    "        cred_acc_2.append(0)\n",
    "        cred_dates_2.append(date)\n",
    "        \n",
    "    try:\n",
    "        pred_3 = knn_cred_3.predict(X_train[['cred_1', 'cred_2', 'cred_3', 'cred_4']])\n",
    "        cred_acc_3.append(accuracy(y_train['zscore_3'],pred_3))\n",
    "        cred_dates_3.append(date)\n",
    "    except:\n",
    "        print('error for zscore 3 accuracies')\n",
    "        cred_acc_3.append(0)\n",
    "        cred_dates_3.append(date)"
   ]
  },
  {
   "cell_type": "code",
   "execution_count": 31,
   "id": "0a864a47",
   "metadata": {},
   "outputs": [
    {
     "data": {
      "text/plain": [
       "2693"
      ]
     },
     "execution_count": 31,
     "metadata": {},
     "output_type": "execute_result"
    }
   ],
   "source": [
    "len(cred_acc_3)"
   ]
  },
  {
   "cell_type": "code",
   "execution_count": 32,
   "id": "2caa1e28",
   "metadata": {},
   "outputs": [
    {
     "data": {
      "text/plain": [
       "[<matplotlib.lines.Line2D at 0x7fca900827c0>]"
      ]
     },
     "execution_count": 32,
     "metadata": {},
     "output_type": "execute_result"
    },
    {
     "data": {
      "image/png": "[encoded data removed]",
      "text/plain": [
       "<Figure size 1080x360 with 1 Axes>"
      ]
     },
     "metadata": {
      "needs_background": "light"
     },
     "output_type": "display_data"
    }
   ],
   "source": [
    "import matplotlib.pyplot as plt\n",
    "\n",
    "plt.figure(figsize=(15,5))\n",
    "plt.plot(cred_acc_1)\n",
    "plt.plot(cred_acc_2)\n",
    "plt.plot(cred_acc_3)"
   ]
  },
  {
   "cell_type": "code",
   "execution_count": 33,
   "id": "db028552",
   "metadata": {},
   "outputs": [],
   "source": [
    "#hell yeah"
   ]
  },
  {
   "cell_type": "code",
   "execution_count": 54,
   "id": "842416f7",
   "metadata": {},
   "outputs": [
    {
     "name": "stdout",
     "output_type": "stream",
     "text": [
      "error for zscore 1 accuracies\n",
      "error for zscore 2 accuracies\n",
      "error for zscore 3 accuracies\n",
      "error for zscore 1 accuracies\n",
      "error for zscore 2 accuracies\n",
      "error for zscore 3 accuracies\n",
      "error for zscore 1 accuracies\n",
      "error for zscore 2 accuracies\n",
      "error for zscore 3 accuracies\n",
      "error for zscore 1 accuracies\n",
      "error for zscore 2 accuracies\n",
      "error for zscore 3 accuracies\n",
      "error for zscore 1 accuracies\n",
      "error for zscore 2 accuracies\n",
      "error for zscore 3 accuracies\n",
      "error for zscore 1 accuracies\n",
      "error for zscore 2 accuracies\n",
      "error for zscore 3 accuracies\n",
      "error for zscore 1 accuracies\n",
      "error for zscore 2 accuracies\n",
      "error for zscore 3 accuracies\n"
     ]
    },
    {
     "ename": "ValueError",
     "evalue": "Found array with 0 sample(s) (shape=(0, 3)) while a minimum of 1 is required by KNeighborsClassifier.",
     "output_type": "error",
     "traceback": [
      "\u001b[0;31m---------------------------------------------------------------------------\u001b[0m",
      "\u001b[0;31mValueError\u001b[0m                                Traceback (most recent call last)",
      "\u001b[0;32m<ipython-input-54-8e5c9056c3b3>\u001b[0m in \u001b[0;36m<module>\u001b[0;34m\u001b[0m\n\u001b[1;32m     20\u001b[0m     \u001b[0my_train\u001b[0m \u001b[0;34m=\u001b[0m \u001b[0my_train_a\u001b[0m\u001b[0;34m.\u001b[0m\u001b[0mloc\u001b[0m\u001b[0;34m[\u001b[0m\u001b[0my_train_a\u001b[0m\u001b[0;34m[\u001b[0m\u001b[0;34m'date'\u001b[0m\u001b[0;34m]\u001b[0m\u001b[0;34m.\u001b[0m\u001b[0misin\u001b[0m\u001b[0;34m(\u001b[0m\u001b[0mtrain_dates\u001b[0m\u001b[0;34m)\u001b[0m\u001b[0;34m]\u001b[0m\u001b[0;34m\u001b[0m\u001b[0;34m\u001b[0m\u001b[0m\n\u001b[1;32m     21\u001b[0m \u001b[0;34m\u001b[0m\u001b[0m\n\u001b[0;32m---> 22\u001b[0;31m     \u001b[0mknn_vol_1\u001b[0m\u001b[0;34m.\u001b[0m\u001b[0mfit\u001b[0m\u001b[0;34m(\u001b[0m\u001b[0mX_train\u001b[0m\u001b[0;34m[\u001b[0m\u001b[0;34m[\u001b[0m\u001b[0;34m'vol_1'\u001b[0m\u001b[0;34m,\u001b[0m\u001b[0;34m'vol_2'\u001b[0m\u001b[0;34m,\u001b[0m\u001b[0;34m'vol_3'\u001b[0m\u001b[0;34m]\u001b[0m\u001b[0;34m]\u001b[0m\u001b[0;34m,\u001b[0m \u001b[0my_train\u001b[0m\u001b[0;34m[\u001b[0m\u001b[0;34m'zscore_1_name'\u001b[0m\u001b[0;34m]\u001b[0m\u001b[0;34m)\u001b[0m\u001b[0;34m\u001b[0m\u001b[0;34m\u001b[0m\u001b[0m\n\u001b[0m\u001b[1;32m     23\u001b[0m     \u001b[0mknn_vol_2\u001b[0m\u001b[0;34m.\u001b[0m\u001b[0mfit\u001b[0m\u001b[0;34m(\u001b[0m\u001b[0mX_train\u001b[0m\u001b[0;34m[\u001b[0m\u001b[0;34m[\u001b[0m\u001b[0;34m'vol_1'\u001b[0m\u001b[0;34m,\u001b[0m\u001b[0;34m'vol_2'\u001b[0m\u001b[0;34m,\u001b[0m\u001b[0;34m'vol_3'\u001b[0m\u001b[0;34m]\u001b[0m\u001b[0;34m]\u001b[0m\u001b[0;34m,\u001b[0m \u001b[0my_train\u001b[0m\u001b[0;34m[\u001b[0m\u001b[0;34m'zscore_2_name'\u001b[0m\u001b[0;34m]\u001b[0m\u001b[0;34m)\u001b[0m\u001b[0;34m\u001b[0m\u001b[0;34m\u001b[0m\u001b[0m\n\u001b[1;32m     24\u001b[0m     \u001b[0mknn_vol_3\u001b[0m\u001b[0;34m.\u001b[0m\u001b[0mfit\u001b[0m\u001b[0;34m(\u001b[0m\u001b[0mX_train\u001b[0m\u001b[0;34m[\u001b[0m\u001b[0;34m[\u001b[0m\u001b[0;34m'vol_1'\u001b[0m\u001b[0;34m,\u001b[0m\u001b[0;34m'vol_2'\u001b[0m\u001b[0;34m,\u001b[0m\u001b[0;34m'vol_3'\u001b[0m\u001b[0;34m]\u001b[0m\u001b[0;34m]\u001b[0m\u001b[0;34m,\u001b[0m \u001b[0my_train\u001b[0m\u001b[0;34m[\u001b[0m\u001b[0;34m'zscore_3_name'\u001b[0m\u001b[0;34m]\u001b[0m\u001b[0;34m)\u001b[0m\u001b[0;34m\u001b[0m\u001b[0;34m\u001b[0m\u001b[0m\n",
      "\u001b[0;32m~/miniconda3/lib/python3.9/site-packages/sklearn/neighbors/_classification.py\u001b[0m in \u001b[0;36mfit\u001b[0;34m(self, X, y)\u001b[0m\n\u001b[1;32m    205\u001b[0m         \u001b[0mself\u001b[0m\u001b[0;34m.\u001b[0m\u001b[0mweights\u001b[0m \u001b[0;34m=\u001b[0m \u001b[0m_check_weights\u001b[0m\u001b[0;34m(\u001b[0m\u001b[0mself\u001b[0m\u001b[0;34m.\u001b[0m\u001b[0mweights\u001b[0m\u001b[0;34m)\u001b[0m\u001b[0;34m\u001b[0m\u001b[0;34m\u001b[0m\u001b[0m\n\u001b[1;32m    206\u001b[0m \u001b[0;34m\u001b[0m\u001b[0m\n\u001b[0;32m--> 207\u001b[0;31m         \u001b[0;32mreturn\u001b[0m \u001b[0mself\u001b[0m\u001b[0;34m.\u001b[0m\u001b[0m_fit\u001b[0m\u001b[0;34m(\u001b[0m\u001b[0mX\u001b[0m\u001b[0;34m,\u001b[0m \u001b[0my\u001b[0m\u001b[0;34m)\u001b[0m\u001b[0;34m\u001b[0m\u001b[0;34m\u001b[0m\u001b[0m\n\u001b[0m\u001b[1;32m    208\u001b[0m \u001b[0;34m\u001b[0m\u001b[0m\n\u001b[1;32m    209\u001b[0m     \u001b[0;32mdef\u001b[0m \u001b[0mpredict\u001b[0m\u001b[0;34m(\u001b[0m\u001b[0mself\u001b[0m\u001b[0;34m,\u001b[0m \u001b[0mX\u001b[0m\u001b[0;34m)\u001b[0m\u001b[0;34m:\u001b[0m\u001b[0;34m\u001b[0m\u001b[0;34m\u001b[0m\u001b[0m\n",
      "\u001b[0;32m~/miniconda3/lib/python3.9/site-packages/sklearn/neighbors/_base.py\u001b[0m in \u001b[0;36m_fit\u001b[0;34m(self, X, y)\u001b[0m\n\u001b[1;32m    405\u001b[0m         \u001b[0;32mif\u001b[0m \u001b[0mself\u001b[0m\u001b[0;34m.\u001b[0m\u001b[0m_get_tags\u001b[0m\u001b[0;34m(\u001b[0m\u001b[0;34m)\u001b[0m\u001b[0;34m[\u001b[0m\u001b[0;34m\"requires_y\"\u001b[0m\u001b[0;34m]\u001b[0m\u001b[0;34m:\u001b[0m\u001b[0;34m\u001b[0m\u001b[0;34m\u001b[0m\u001b[0m\n\u001b[1;32m    406\u001b[0m             \u001b[0;32mif\u001b[0m \u001b[0;32mnot\u001b[0m \u001b[0misinstance\u001b[0m\u001b[0;34m(\u001b[0m\u001b[0mX\u001b[0m\u001b[0;34m,\u001b[0m \u001b[0;34m(\u001b[0m\u001b[0mKDTree\u001b[0m\u001b[0;34m,\u001b[0m \u001b[0mBallTree\u001b[0m\u001b[0;34m,\u001b[0m \u001b[0mNeighborsBase\u001b[0m\u001b[0;34m)\u001b[0m\u001b[0;34m)\u001b[0m\u001b[0;34m:\u001b[0m\u001b[0;34m\u001b[0m\u001b[0;34m\u001b[0m\u001b[0m\n\u001b[0;32m--> 407\u001b[0;31m                 X, y = self._validate_data(\n\u001b[0m\u001b[1;32m    408\u001b[0m                     \u001b[0mX\u001b[0m\u001b[0;34m,\u001b[0m \u001b[0my\u001b[0m\u001b[0;34m,\u001b[0m \u001b[0maccept_sparse\u001b[0m\u001b[0;34m=\u001b[0m\u001b[0;34m\"csr\"\u001b[0m\u001b[0;34m,\u001b[0m \u001b[0mmulti_output\u001b[0m\u001b[0;34m=\u001b[0m\u001b[0;32mTrue\u001b[0m\u001b[0;34m,\u001b[0m \u001b[0morder\u001b[0m\u001b[0;34m=\u001b[0m\u001b[0;34m\"C\"\u001b[0m\u001b[0;34m\u001b[0m\u001b[0;34m\u001b[0m\u001b[0m\n\u001b[1;32m    409\u001b[0m                 )\n",
      "\u001b[0;32m~/miniconda3/lib/python3.9/site-packages/sklearn/base.py\u001b[0m in \u001b[0;36m_validate_data\u001b[0;34m(self, X, y, reset, validate_separately, **check_params)\u001b[0m\n\u001b[1;32m    594\u001b[0m                 \u001b[0my\u001b[0m \u001b[0;34m=\u001b[0m \u001b[0mcheck_array\u001b[0m\u001b[0;34m(\u001b[0m\u001b[0my\u001b[0m\u001b[0;34m,\u001b[0m \u001b[0minput_name\u001b[0m\u001b[0;34m=\u001b[0m\u001b[0;34m\"y\"\u001b[0m\u001b[0;34m,\u001b[0m \u001b[0;34m**\u001b[0m\u001b[0mcheck_y_params\u001b[0m\u001b[0;34m)\u001b[0m\u001b[0;34m\u001b[0m\u001b[0;34m\u001b[0m\u001b[0m\n\u001b[1;32m    595\u001b[0m             \u001b[0;32melse\u001b[0m\u001b[0;34m:\u001b[0m\u001b[0;34m\u001b[0m\u001b[0;34m\u001b[0m\u001b[0m\n\u001b[0;32m--> 596\u001b[0;31m                 \u001b[0mX\u001b[0m\u001b[0;34m,\u001b[0m \u001b[0my\u001b[0m \u001b[0;34m=\u001b[0m \u001b[0mcheck_X_y\u001b[0m\u001b[0;34m(\u001b[0m\u001b[0mX\u001b[0m\u001b[0;34m,\u001b[0m \u001b[0my\u001b[0m\u001b[0;34m,\u001b[0m \u001b[0;34m**\u001b[0m\u001b[0mcheck_params\u001b[0m\u001b[0;34m)\u001b[0m\u001b[0;34m\u001b[0m\u001b[0;34m\u001b[0m\u001b[0m\n\u001b[0m\u001b[1;32m    597\u001b[0m             \u001b[0mout\u001b[0m \u001b[0;34m=\u001b[0m \u001b[0mX\u001b[0m\u001b[0;34m,\u001b[0m \u001b[0my\u001b[0m\u001b[0;34m\u001b[0m\u001b[0;34m\u001b[0m\u001b[0m\n\u001b[1;32m    598\u001b[0m \u001b[0;34m\u001b[0m\u001b[0m\n",
      "\u001b[0;32m~/miniconda3/lib/python3.9/site-packages/sklearn/utils/validation.py\u001b[0m in \u001b[0;36mcheck_X_y\u001b[0;34m(X, y, accept_sparse, accept_large_sparse, dtype, order, copy, force_all_finite, ensure_2d, allow_nd, multi_output, ensure_min_samples, ensure_min_features, y_numeric, estimator)\u001b[0m\n\u001b[1;32m   1072\u001b[0m         )\n\u001b[1;32m   1073\u001b[0m \u001b[0;34m\u001b[0m\u001b[0m\n\u001b[0;32m-> 1074\u001b[0;31m     X = check_array(\n\u001b[0m\u001b[1;32m   1075\u001b[0m         \u001b[0mX\u001b[0m\u001b[0;34m,\u001b[0m\u001b[0;34m\u001b[0m\u001b[0;34m\u001b[0m\u001b[0m\n\u001b[1;32m   1076\u001b[0m         \u001b[0maccept_sparse\u001b[0m\u001b[0;34m=\u001b[0m\u001b[0maccept_sparse\u001b[0m\u001b[0;34m,\u001b[0m\u001b[0;34m\u001b[0m\u001b[0;34m\u001b[0m\u001b[0m\n",
      "\u001b[0;32m~/miniconda3/lib/python3.9/site-packages/sklearn/utils/validation.py\u001b[0m in \u001b[0;36mcheck_array\u001b[0;34m(array, accept_sparse, accept_large_sparse, dtype, order, copy, force_all_finite, ensure_2d, allow_nd, ensure_min_samples, ensure_min_features, estimator, input_name)\u001b[0m\n\u001b[1;32m    907\u001b[0m         \u001b[0mn_samples\u001b[0m \u001b[0;34m=\u001b[0m \u001b[0m_num_samples\u001b[0m\u001b[0;34m(\u001b[0m\u001b[0marray\u001b[0m\u001b[0;34m)\u001b[0m\u001b[0;34m\u001b[0m\u001b[0;34m\u001b[0m\u001b[0m\n\u001b[1;32m    908\u001b[0m         \u001b[0;32mif\u001b[0m \u001b[0mn_samples\u001b[0m \u001b[0;34m<\u001b[0m \u001b[0mensure_min_samples\u001b[0m\u001b[0;34m:\u001b[0m\u001b[0;34m\u001b[0m\u001b[0;34m\u001b[0m\u001b[0m\n\u001b[0;32m--> 909\u001b[0;31m             raise ValueError(\n\u001b[0m\u001b[1;32m    910\u001b[0m                 \u001b[0;34m\"Found array with %d sample(s) (shape=%s) while a\"\u001b[0m\u001b[0;34m\u001b[0m\u001b[0;34m\u001b[0m\u001b[0m\n\u001b[1;32m    911\u001b[0m                 \u001b[0;34m\" minimum of %d is required%s.\"\u001b[0m\u001b[0;34m\u001b[0m\u001b[0;34m\u001b[0m\u001b[0m\n",
      "\u001b[0;31mValueError\u001b[0m: Found array with 0 sample(s) (shape=(0, 3)) while a minimum of 1 is required by KNeighborsClassifier."
     ]
    }
   ],
   "source": [
    "knn_vol_1 = KNeighborsClassifier(8)\n",
    "knn_vol_2 = KNeighborsClassifier(8)\n",
    "knn_vol_3 = KNeighborsClassifier(8)\n",
    "\n",
    "vol_acc_1 = []\n",
    "vol_dates_1 = []\n",
    "\n",
    "vol_acc_2 = []\n",
    "vol_dates_2 = []\n",
    "\n",
    "vol_acc_3 = []\n",
    "vol_dates_3 = []\n",
    "\n",
    "for date in vol['date']:\n",
    "    X_train_a = training_set(date, vol)\n",
    "    y_train_a = stox.loc[stox['date'].isin(X_train_a['date'])]\n",
    "    train_dates = intersection(X_train_a.dropna()['date'].values, y_train_a.dropna()['date'].values)\n",
    "    \n",
    "    X_train = X_train_a.loc[X_train_a['date'].isin(train_dates)]\n",
    "    y_train = y_train_a.loc[y_train_a['date'].isin(train_dates)]\n",
    "    \n",
    "    knn_vol_1.fit(X_train[['vol_1','vol_2','vol_3']], y_train['zscore_1_name'])\n",
    "    knn_vol_2.fit(X_train[['vol_1','vol_2','vol_3']], y_train['zscore_2_name'])\n",
    "    knn_vol_3.fit(X_train[['vol_1','vol_2','vol_3']], y_train['zscore_3_name'])\n",
    "    \n",
    "    try:\n",
    "        pred_1 = knn_vol_1.predict(X_train[['vol_1','vol_2','vol_3']])\n",
    "        vol_acc_1.append(accuracy(y_train['zscore_1'],pred_1))\n",
    "        vol_dates_1.append(date)\n",
    "    except:\n",
    "        print('error for zscore 1 accuracies')\n",
    "        vol_acc_1.append(0)\n",
    "        vol_dates_1.append(date)\n",
    "    \n",
    "    try:\n",
    "        pred_2 = knn_vol_2.predict(X_train[['vol_1','vol_2','vol_3']])\n",
    "        vol_acc_2.append(accuracy(y_train['zscore_2'],pred_2))\n",
    "        vol_dates_2.append(date)\n",
    "    except:\n",
    "        print('error for zscore 2 accuracies')\n",
    "        vol_acc_2.append(0)\n",
    "        vol_dates_2.append(date)\n",
    "        \n",
    "    try:\n",
    "        pred_3 = knn_vol_3.predict(X_train[['vol_1','vol_2','vol_3']])\n",
    "        vol_acc_3.append(accuracy(y_train['zscore_3'],pred_3))\n",
    "        vol_dates_3.append(date)\n",
    "    except:\n",
    "        print('error for zscore 3 accuracies')\n",
    "        vol_acc_3.append(0)\n",
    "        vol_dates_3.append(date)"
   ]
  },
  {
   "cell_type": "code",
   "execution_count": 35,
   "id": "90a3c56f",
   "metadata": {},
   "outputs": [
    {
     "data": {
      "text/plain": [
       "2995"
      ]
     },
     "execution_count": 35,
     "metadata": {},
     "output_type": "execute_result"
    }
   ],
   "source": [
    "len(vol_acc_1)"
   ]
  },
  {
   "cell_type": "code",
   "execution_count": 305,
   "id": "4df75160",
   "metadata": {},
   "outputs": [
    {
     "data": {
      "text/plain": [
       "[<matplotlib.lines.Line2D at 0x7f95e3b86e80>]"
      ]
     },
     "execution_count": 305,
     "metadata": {},
     "output_type": "execute_result"
    },
    {
     "data": {
      "image/png": "[encoded data removed]",
      "text/plain": [
       "<Figure size 1080x360 with 1 Axes>"
      ]
     },
     "metadata": {
      "needs_background": "light"
     },
     "output_type": "display_data"
    }
   ],
   "source": [
    "plt.figure(figsize=(15,5))\n",
    "plt.plot(vol_acc_1)\n",
    "plt.plot(vol_acc_2)\n",
    "plt.plot(vol_acc_3)"
   ]
  },
  {
   "cell_type": "code",
   "execution_count": 49,
   "id": "3b000e71",
   "metadata": {},
   "outputs": [
    {
     "name": "stdout",
     "output_type": "stream",
     "text": [
      "error for zscore 1 accuracies\n",
      "error for zscore 2 accuracies\n",
      "error for zscore 3 accuracies\n",
      "error for zscore 1 accuracies\n",
      "error for zscore 2 accuracies\n",
      "error for zscore 3 accuracies\n",
      "error for zscore 1 accuracies\n",
      "error for zscore 2 accuracies\n",
      "error for zscore 3 accuracies\n",
      "error for zscore 1 accuracies\n",
      "error for zscore 2 accuracies\n",
      "error for zscore 3 accuracies\n",
      "error for zscore 1 accuracies\n",
      "error for zscore 2 accuracies\n",
      "error for zscore 3 accuracies\n",
      "error for zscore 1 accuracies\n",
      "error for zscore 2 accuracies\n",
      "error for zscore 3 accuracies\n",
      "error for zscore 1 accuracies\n",
      "error for zscore 2 accuracies\n",
      "error for zscore 3 accuracies\n"
     ]
    },
    {
     "ename": "ValueError",
     "evalue": "Found array with 0 sample(s) (shape=(0, 3)) while a minimum of 1 is required by KNeighborsClassifier.",
     "output_type": "error",
     "traceback": [
      "\u001b[0;31m---------------------------------------------------------------------------\u001b[0m",
      "\u001b[0;31mValueError\u001b[0m                                Traceback (most recent call last)",
      "\u001b[0;32m<ipython-input-49-b00922333b5a>\u001b[0m in \u001b[0;36m<module>\u001b[0;34m\u001b[0m\n\u001b[1;32m     20\u001b[0m     \u001b[0my_train\u001b[0m \u001b[0;34m=\u001b[0m \u001b[0my_train_a\u001b[0m\u001b[0;34m.\u001b[0m\u001b[0mloc\u001b[0m\u001b[0;34m[\u001b[0m\u001b[0my_train_a\u001b[0m\u001b[0;34m[\u001b[0m\u001b[0;34m'date'\u001b[0m\u001b[0;34m]\u001b[0m\u001b[0;34m.\u001b[0m\u001b[0misin\u001b[0m\u001b[0;34m(\u001b[0m\u001b[0mtrain_dates\u001b[0m\u001b[0;34m)\u001b[0m\u001b[0;34m]\u001b[0m\u001b[0;34m\u001b[0m\u001b[0;34m\u001b[0m\u001b[0m\n\u001b[1;32m     21\u001b[0m \u001b[0;34m\u001b[0m\u001b[0m\n\u001b[0;32m---> 22\u001b[0;31m     \u001b[0mknn_safe_1\u001b[0m\u001b[0;34m.\u001b[0m\u001b[0mfit\u001b[0m\u001b[0;34m(\u001b[0m\u001b[0mX_train\u001b[0m\u001b[0;34m[\u001b[0m\u001b[0;34m[\u001b[0m\u001b[0;34m'safe_1'\u001b[0m\u001b[0;34m,\u001b[0m \u001b[0;34m'safe_2'\u001b[0m\u001b[0;34m,\u001b[0m \u001b[0;34m'safe_3'\u001b[0m\u001b[0;34m]\u001b[0m\u001b[0;34m]\u001b[0m\u001b[0;34m,\u001b[0m \u001b[0my_train\u001b[0m\u001b[0;34m[\u001b[0m\u001b[0;34m'zscore_1_name'\u001b[0m\u001b[0;34m]\u001b[0m\u001b[0;34m)\u001b[0m\u001b[0;34m\u001b[0m\u001b[0;34m\u001b[0m\u001b[0m\n\u001b[0m\u001b[1;32m     23\u001b[0m     \u001b[0mknn_safe_2\u001b[0m\u001b[0;34m.\u001b[0m\u001b[0mfit\u001b[0m\u001b[0;34m(\u001b[0m\u001b[0mX_train\u001b[0m\u001b[0;34m[\u001b[0m\u001b[0;34m[\u001b[0m\u001b[0;34m'safe_1'\u001b[0m\u001b[0;34m,\u001b[0m \u001b[0;34m'safe_2'\u001b[0m\u001b[0;34m,\u001b[0m \u001b[0;34m'safe_3'\u001b[0m\u001b[0;34m]\u001b[0m\u001b[0;34m]\u001b[0m\u001b[0;34m,\u001b[0m \u001b[0my_train\u001b[0m\u001b[0;34m[\u001b[0m\u001b[0;34m'zscore_2_name'\u001b[0m\u001b[0;34m]\u001b[0m\u001b[0;34m)\u001b[0m\u001b[0;34m\u001b[0m\u001b[0;34m\u001b[0m\u001b[0m\n\u001b[1;32m     24\u001b[0m     \u001b[0mknn_safe_3\u001b[0m\u001b[0;34m.\u001b[0m\u001b[0mfit\u001b[0m\u001b[0;34m(\u001b[0m\u001b[0mX_train\u001b[0m\u001b[0;34m[\u001b[0m\u001b[0;34m[\u001b[0m\u001b[0;34m'safe_1'\u001b[0m\u001b[0;34m,\u001b[0m \u001b[0;34m'safe_2'\u001b[0m\u001b[0;34m,\u001b[0m \u001b[0;34m'safe_3'\u001b[0m\u001b[0;34m]\u001b[0m\u001b[0;34m]\u001b[0m\u001b[0;34m,\u001b[0m \u001b[0my_train\u001b[0m\u001b[0;34m[\u001b[0m\u001b[0;34m'zscore_3_name'\u001b[0m\u001b[0;34m]\u001b[0m\u001b[0;34m)\u001b[0m\u001b[0;34m\u001b[0m\u001b[0;34m\u001b[0m\u001b[0m\n",
      "\u001b[0;32m~/miniconda3/lib/python3.9/site-packages/sklearn/neighbors/_classification.py\u001b[0m in \u001b[0;36mfit\u001b[0;34m(self, X, y)\u001b[0m\n\u001b[1;32m    205\u001b[0m         \u001b[0mself\u001b[0m\u001b[0;34m.\u001b[0m\u001b[0mweights\u001b[0m \u001b[0;34m=\u001b[0m \u001b[0m_check_weights\u001b[0m\u001b[0;34m(\u001b[0m\u001b[0mself\u001b[0m\u001b[0;34m.\u001b[0m\u001b[0mweights\u001b[0m\u001b[0;34m)\u001b[0m\u001b[0;34m\u001b[0m\u001b[0;34m\u001b[0m\u001b[0m\n\u001b[1;32m    206\u001b[0m \u001b[0;34m\u001b[0m\u001b[0m\n\u001b[0;32m--> 207\u001b[0;31m         \u001b[0;32mreturn\u001b[0m \u001b[0mself\u001b[0m\u001b[0;34m.\u001b[0m\u001b[0m_fit\u001b[0m\u001b[0;34m(\u001b[0m\u001b[0mX\u001b[0m\u001b[0;34m,\u001b[0m \u001b[0my\u001b[0m\u001b[0;34m)\u001b[0m\u001b[0;34m\u001b[0m\u001b[0;34m\u001b[0m\u001b[0m\n\u001b[0m\u001b[1;32m    208\u001b[0m \u001b[0;34m\u001b[0m\u001b[0m\n\u001b[1;32m    209\u001b[0m     \u001b[0;32mdef\u001b[0m \u001b[0mpredict\u001b[0m\u001b[0;34m(\u001b[0m\u001b[0mself\u001b[0m\u001b[0;34m,\u001b[0m \u001b[0mX\u001b[0m\u001b[0;34m)\u001b[0m\u001b[0;34m:\u001b[0m\u001b[0;34m\u001b[0m\u001b[0;34m\u001b[0m\u001b[0m\n",
      "\u001b[0;32m~/miniconda3/lib/python3.9/site-packages/sklearn/neighbors/_base.py\u001b[0m in \u001b[0;36m_fit\u001b[0;34m(self, X, y)\u001b[0m\n\u001b[1;32m    405\u001b[0m         \u001b[0;32mif\u001b[0m \u001b[0mself\u001b[0m\u001b[0;34m.\u001b[0m\u001b[0m_get_tags\u001b[0m\u001b[0;34m(\u001b[0m\u001b[0;34m)\u001b[0m\u001b[0;34m[\u001b[0m\u001b[0;34m\"requires_y\"\u001b[0m\u001b[0;34m]\u001b[0m\u001b[0;34m:\u001b[0m\u001b[0;34m\u001b[0m\u001b[0;34m\u001b[0m\u001b[0m\n\u001b[1;32m    406\u001b[0m             \u001b[0;32mif\u001b[0m \u001b[0;32mnot\u001b[0m \u001b[0misinstance\u001b[0m\u001b[0;34m(\u001b[0m\u001b[0mX\u001b[0m\u001b[0;34m,\u001b[0m \u001b[0;34m(\u001b[0m\u001b[0mKDTree\u001b[0m\u001b[0;34m,\u001b[0m \u001b[0mBallTree\u001b[0m\u001b[0;34m,\u001b[0m \u001b[0mNeighborsBase\u001b[0m\u001b[0;34m)\u001b[0m\u001b[0;34m)\u001b[0m\u001b[0;34m:\u001b[0m\u001b[0;34m\u001b[0m\u001b[0;34m\u001b[0m\u001b[0m\n\u001b[0;32m--> 407\u001b[0;31m                 X, y = self._validate_data(\n\u001b[0m\u001b[1;32m    408\u001b[0m                     \u001b[0mX\u001b[0m\u001b[0;34m,\u001b[0m \u001b[0my\u001b[0m\u001b[0;34m,\u001b[0m \u001b[0maccept_sparse\u001b[0m\u001b[0;34m=\u001b[0m\u001b[0;34m\"csr\"\u001b[0m\u001b[0;34m,\u001b[0m \u001b[0mmulti_output\u001b[0m\u001b[0;34m=\u001b[0m\u001b[0;32mTrue\u001b[0m\u001b[0;34m,\u001b[0m \u001b[0morder\u001b[0m\u001b[0;34m=\u001b[0m\u001b[0;34m\"C\"\u001b[0m\u001b[0;34m\u001b[0m\u001b[0;34m\u001b[0m\u001b[0m\n\u001b[1;32m    409\u001b[0m                 )\n",
      "\u001b[0;32m~/miniconda3/lib/python3.9/site-packages/sklearn/base.py\u001b[0m in \u001b[0;36m_validate_data\u001b[0;34m(self, X, y, reset, validate_separately, **check_params)\u001b[0m\n\u001b[1;32m    594\u001b[0m                 \u001b[0my\u001b[0m \u001b[0;34m=\u001b[0m \u001b[0mcheck_array\u001b[0m\u001b[0;34m(\u001b[0m\u001b[0my\u001b[0m\u001b[0;34m,\u001b[0m \u001b[0minput_name\u001b[0m\u001b[0;34m=\u001b[0m\u001b[0;34m\"y\"\u001b[0m\u001b[0;34m,\u001b[0m \u001b[0;34m**\u001b[0m\u001b[0mcheck_y_params\u001b[0m\u001b[0;34m)\u001b[0m\u001b[0;34m\u001b[0m\u001b[0;34m\u001b[0m\u001b[0m\n\u001b[1;32m    595\u001b[0m             \u001b[0;32melse\u001b[0m\u001b[0;34m:\u001b[0m\u001b[0;34m\u001b[0m\u001b[0;34m\u001b[0m\u001b[0m\n\u001b[0;32m--> 596\u001b[0;31m                 \u001b[0mX\u001b[0m\u001b[0;34m,\u001b[0m \u001b[0my\u001b[0m \u001b[0;34m=\u001b[0m \u001b[0mcheck_X_y\u001b[0m\u001b[0;34m(\u001b[0m\u001b[0mX\u001b[0m\u001b[0;34m,\u001b[0m \u001b[0my\u001b[0m\u001b[0;34m,\u001b[0m \u001b[0;34m**\u001b[0m\u001b[0mcheck_params\u001b[0m\u001b[0;34m)\u001b[0m\u001b[0;34m\u001b[0m\u001b[0;34m\u001b[0m\u001b[0m\n\u001b[0m\u001b[1;32m    597\u001b[0m             \u001b[0mout\u001b[0m \u001b[0;34m=\u001b[0m \u001b[0mX\u001b[0m\u001b[0;34m,\u001b[0m \u001b[0my\u001b[0m\u001b[0;34m\u001b[0m\u001b[0;34m\u001b[0m\u001b[0m\n\u001b[1;32m    598\u001b[0m \u001b[0;34m\u001b[0m\u001b[0m\n",
      "\u001b[0;32m~/miniconda3/lib/python3.9/site-packages/sklearn/utils/validation.py\u001b[0m in \u001b[0;36mcheck_X_y\u001b[0;34m(X, y, accept_sparse, accept_large_sparse, dtype, order, copy, force_all_finite, ensure_2d, allow_nd, multi_output, ensure_min_samples, ensure_min_features, y_numeric, estimator)\u001b[0m\n\u001b[1;32m   1072\u001b[0m         )\n\u001b[1;32m   1073\u001b[0m \u001b[0;34m\u001b[0m\u001b[0m\n\u001b[0;32m-> 1074\u001b[0;31m     X = check_array(\n\u001b[0m\u001b[1;32m   1075\u001b[0m         \u001b[0mX\u001b[0m\u001b[0;34m,\u001b[0m\u001b[0;34m\u001b[0m\u001b[0;34m\u001b[0m\u001b[0m\n\u001b[1;32m   1076\u001b[0m         \u001b[0maccept_sparse\u001b[0m\u001b[0;34m=\u001b[0m\u001b[0maccept_sparse\u001b[0m\u001b[0;34m,\u001b[0m\u001b[0;34m\u001b[0m\u001b[0;34m\u001b[0m\u001b[0m\n",
      "\u001b[0;32m~/miniconda3/lib/python3.9/site-packages/sklearn/utils/validation.py\u001b[0m in \u001b[0;36mcheck_array\u001b[0;34m(array, accept_sparse, accept_large_sparse, dtype, order, copy, force_all_finite, ensure_2d, allow_nd, ensure_min_samples, ensure_min_features, estimator, input_name)\u001b[0m\n\u001b[1;32m    907\u001b[0m         \u001b[0mn_samples\u001b[0m \u001b[0;34m=\u001b[0m \u001b[0m_num_samples\u001b[0m\u001b[0;34m(\u001b[0m\u001b[0marray\u001b[0m\u001b[0;34m)\u001b[0m\u001b[0;34m\u001b[0m\u001b[0;34m\u001b[0m\u001b[0m\n\u001b[1;32m    908\u001b[0m         \u001b[0;32mif\u001b[0m \u001b[0mn_samples\u001b[0m \u001b[0;34m<\u001b[0m \u001b[0mensure_min_samples\u001b[0m\u001b[0;34m:\u001b[0m\u001b[0;34m\u001b[0m\u001b[0;34m\u001b[0m\u001b[0m\n\u001b[0;32m--> 909\u001b[0;31m             raise ValueError(\n\u001b[0m\u001b[1;32m    910\u001b[0m                 \u001b[0;34m\"Found array with %d sample(s) (shape=%s) while a\"\u001b[0m\u001b[0;34m\u001b[0m\u001b[0;34m\u001b[0m\u001b[0m\n\u001b[1;32m    911\u001b[0m                 \u001b[0;34m\" minimum of %d is required%s.\"\u001b[0m\u001b[0;34m\u001b[0m\u001b[0;34m\u001b[0m\u001b[0m\n",
      "\u001b[0;31mValueError\u001b[0m: Found array with 0 sample(s) (shape=(0, 3)) while a minimum of 1 is required by KNeighborsClassifier."
     ]
    }
   ],
   "source": [
    "knn_safe_1 = KNeighborsClassifier(8)\n",
    "knn_safe_2 = KNeighborsClassifier(8)\n",
    "knn_safe_3 = KNeighborsClassifier(8)\n",
    "\n",
    "safe_acc_1 = []\n",
    "safe_dates_1 = []\n",
    "\n",
    "safe_acc_2 = []\n",
    "safe_dates_2 = []\n",
    "\n",
    "safe_acc_3 = []\n",
    "safe_dates_3 = []\n",
    "\n",
    "for date in safe['date']:\n",
    "    X_train_a = training_set(date, safe)\n",
    "    y_train_a = stox.loc[stox['date'].isin(X_train_a['date'])]\n",
    "    train_dates = intersection(X_train_a.dropna()['date'].values, y_train_a.dropna()['date'].values)\n",
    "    \n",
    "    X_train = X_train_a.loc[X_train_a['date'].isin(train_dates)]\n",
    "    y_train = y_train_a.loc[y_train_a['date'].isin(train_dates)]\n",
    "    \n",
    "    knn_safe_1.fit(X_train[['safe_1', 'safe_2', 'safe_3']], y_train['zscore_1_name'])\n",
    "    knn_safe_2.fit(X_train[['safe_1', 'safe_2', 'safe_3']], y_train['zscore_2_name'])\n",
    "    knn_safe_3.fit(X_train[['safe_1', 'safe_2', 'safe_3']], y_train['zscore_3_name'])\n",
    "    \n",
    "    try:\n",
    "        pred_1 = knn_safe_1.predict(X_train[['safe_1', 'safe_2', 'safe_3']])\n",
    "        safe_acc_1.append(accuracy(y_train['zscore_1'],pred_1))\n",
    "        safe_dates_1.append(date)\n",
    "    except:\n",
    "        print('error for zscore 1 accuracies')\n",
    "        safe_acc_1.append(0)\n",
    "        safe_dates_1.append(date)\n",
    "    \n",
    "    try:\n",
    "        pred_2 = knn_safe_2.predict(X_train[['safe_1', 'safe_2', 'safe_3']])\n",
    "        safe_acc_2.append(accuracy(y_train['zscore_2'],pred_2))\n",
    "        safe_dates_2.append(date)\n",
    "    except:\n",
    "        print('error for zscore 2 accuracies')\n",
    "        safe_acc_2.append(0)\n",
    "        safe_dates_2.append(date)\n",
    "        \n",
    "    try:\n",
    "        pred_3 = knn_safe_3.predict(X_train[['safe_1', 'safe_2', 'safe_3']])\n",
    "        safe_acc_3.append(accuracy(y_train['zscore_3'],pred_3))\n",
    "        safe_dates_3.append(date)\n",
    "    except:\n",
    "        print('error for zscore 3 accuracies')\n",
    "        safe_acc_3.append(0)\n",
    "        safe_dates_3.append(date)"
   ]
  },
  {
   "cell_type": "code",
   "execution_count": 53,
   "id": "5f2e3727",
   "metadata": {},
   "outputs": [
    {
     "data": {
      "text/plain": [
       "([], [])"
      ]
     },
     "execution_count": 53,
     "metadata": {},
     "output_type": "execute_result"
    },
    {
     "data": {
      "image/png": "[encoded data removed]",
      "text/plain": [
       "<Figure size 1080x360 with 1 Axes>"
      ]
     },
     "metadata": {
      "needs_background": "light"
     },
     "output_type": "display_data"
    }
   ],
   "source": [
    "plt.figure(figsize=(15,5))\n",
    "plt.plot(safe_dates_1, safe_acc_1)\n",
    "plt.xticks([])"
   ]
  },
  {
   "cell_type": "code",
   "execution_count": 308,
   "id": "57f46ec3",
   "metadata": {},
   "outputs": [
    {
     "data": {
      "text/plain": [
       "[<matplotlib.lines.Line2D at 0x7f9600f317c0>]"
      ]
     },
     "execution_count": 308,
     "metadata": {},
     "output_type": "execute_result"
    },
    {
     "data": {
      "image/png": "[encoded data removed]",
      "text/plain": [
       "<Figure size 1080x360 with 1 Axes>"
      ]
     },
     "metadata": {
      "needs_background": "light"
     },
     "output_type": "display_data"
    }
   ],
   "source": [
    "plt.figure(figsize=(15,5))\n",
    "plt.plot(safe_acc_1)\n",
    "plt.plot(safe_acc_2)\n",
    "plt.plot(safe_acc_3)"
   ]
  },
  {
   "cell_type": "code",
   "execution_count": 42,
   "id": "17f3d2b2",
   "metadata": {},
   "outputs": [
    {
     "data": {
      "text/html": [
       "<div>\n",
       "<style scoped>\n",
       "    .dataframe tbody tr th:only-of-type {\n",
       "        vertical-align: middle;\n",
       "    }\n",
       "\n",
       "    .dataframe tbody tr th {\n",
       "        vertical-align: top;\n",
       "    }\n",
       "\n",
       "    .dataframe thead th {\n",
       "        text-align: right;\n",
       "    }\n",
       "</style>\n",
       "<table border=\"1\" class=\"dataframe\">\n",
       "  <thead>\n",
       "    <tr style=\"text-align: right;\">\n",
       "      <th></th>\n",
       "      <th>Unnamed: 0</th>\n",
       "      <th>date</th>\n",
       "      <th>zscore_1</th>\n",
       "      <th>zscore_2</th>\n",
       "      <th>zscore_3</th>\n",
       "      <th>zscore_1_name</th>\n",
       "      <th>zscore_2_name</th>\n",
       "      <th>zscore_3_name</th>\n",
       "    </tr>\n",
       "  </thead>\n",
       "  <tbody>\n",
       "    <tr>\n",
       "      <th>0</th>\n",
       "      <td>0</td>\n",
       "      <td>2022-10-31</td>\n",
       "      <td>NaN</td>\n",
       "      <td>NaN</td>\n",
       "      <td>NaN</td>\n",
       "      <td>nan</td>\n",
       "      <td>nan</td>\n",
       "      <td>nan</td>\n",
       "    </tr>\n",
       "    <tr>\n",
       "      <th>1</th>\n",
       "      <td>1</td>\n",
       "      <td>2022-10-28</td>\n",
       "      <td>0.25</td>\n",
       "      <td>-1.25</td>\n",
       "      <td>-2.50</td>\n",
       "      <td>0.25</td>\n",
       "      <td>-1.25</td>\n",
       "      <td>-2.5</td>\n",
       "    </tr>\n",
       "    <tr>\n",
       "      <th>2</th>\n",
       "      <td>2</td>\n",
       "      <td>2022-10-27</td>\n",
       "      <td>0.00</td>\n",
       "      <td>-1.25</td>\n",
       "      <td>-2.00</td>\n",
       "      <td>0.0</td>\n",
       "      <td>-1.25</td>\n",
       "      <td>-2.0</td>\n",
       "    </tr>\n",
       "    <tr>\n",
       "      <th>3</th>\n",
       "      <td>3</td>\n",
       "      <td>2022-10-26</td>\n",
       "      <td>0.00</td>\n",
       "      <td>-1.25</td>\n",
       "      <td>-2.00</td>\n",
       "      <td>0.0</td>\n",
       "      <td>-1.25</td>\n",
       "      <td>-2.0</td>\n",
       "    </tr>\n",
       "    <tr>\n",
       "      <th>4</th>\n",
       "      <td>4</td>\n",
       "      <td>2022-10-25</td>\n",
       "      <td>0.25</td>\n",
       "      <td>-1.25</td>\n",
       "      <td>-2.00</td>\n",
       "      <td>0.25</td>\n",
       "      <td>-1.25</td>\n",
       "      <td>-2.0</td>\n",
       "    </tr>\n",
       "    <tr>\n",
       "      <th>...</th>\n",
       "      <td>...</td>\n",
       "      <td>...</td>\n",
       "      <td>...</td>\n",
       "      <td>...</td>\n",
       "      <td>...</td>\n",
       "      <td>...</td>\n",
       "      <td>...</td>\n",
       "      <td>...</td>\n",
       "    </tr>\n",
       "    <tr>\n",
       "      <th>1967</th>\n",
       "      <td>2037</td>\n",
       "      <td>2015-01-08</td>\n",
       "      <td>-1.25</td>\n",
       "      <td>0.75</td>\n",
       "      <td>0.00</td>\n",
       "      <td>-1.25</td>\n",
       "      <td>0.75</td>\n",
       "      <td>0.0</td>\n",
       "    </tr>\n",
       "    <tr>\n",
       "      <th>1968</th>\n",
       "      <td>2038</td>\n",
       "      <td>2015-01-07</td>\n",
       "      <td>-1.25</td>\n",
       "      <td>0.50</td>\n",
       "      <td>-0.00</td>\n",
       "      <td>-1.25</td>\n",
       "      <td>0.5</td>\n",
       "      <td>-0.0</td>\n",
       "    </tr>\n",
       "    <tr>\n",
       "      <th>1969</th>\n",
       "      <td>2039</td>\n",
       "      <td>2015-01-06</td>\n",
       "      <td>-0.75</td>\n",
       "      <td>1.25</td>\n",
       "      <td>0.00</td>\n",
       "      <td>-0.75</td>\n",
       "      <td>1.25</td>\n",
       "      <td>0.0</td>\n",
       "    </tr>\n",
       "    <tr>\n",
       "      <th>1970</th>\n",
       "      <td>2040</td>\n",
       "      <td>2015-01-05</td>\n",
       "      <td>-0.50</td>\n",
       "      <td>1.25</td>\n",
       "      <td>0.25</td>\n",
       "      <td>-0.5</td>\n",
       "      <td>1.25</td>\n",
       "      <td>0.25</td>\n",
       "    </tr>\n",
       "    <tr>\n",
       "      <th>1971</th>\n",
       "      <td>2041</td>\n",
       "      <td>2015-01-02</td>\n",
       "      <td>-1.00</td>\n",
       "      <td>1.00</td>\n",
       "      <td>-0.25</td>\n",
       "      <td>-1.0</td>\n",
       "      <td>1.0</td>\n",
       "      <td>-0.25</td>\n",
       "    </tr>\n",
       "  </tbody>\n",
       "</table>\n",
       "<p>1933 rows × 8 columns</p>\n",
       "</div>"
      ],
      "text/plain": [
       "      Unnamed: 0        date  zscore_1  zscore_2  zscore_3 zscore_1_name  \\\n",
       "0              0  2022-10-31       NaN       NaN       NaN           nan   \n",
       "1              1  2022-10-28      0.25     -1.25     -2.50          0.25   \n",
       "2              2  2022-10-27      0.00     -1.25     -2.00           0.0   \n",
       "3              3  2022-10-26      0.00     -1.25     -2.00           0.0   \n",
       "4              4  2022-10-25      0.25     -1.25     -2.00          0.25   \n",
       "...          ...         ...       ...       ...       ...           ...   \n",
       "1967        2037  2015-01-08     -1.25      0.75      0.00         -1.25   \n",
       "1968        2038  2015-01-07     -1.25      0.50     -0.00         -1.25   \n",
       "1969        2039  2015-01-06     -0.75      1.25      0.00         -0.75   \n",
       "1970        2040  2015-01-05     -0.50      1.25      0.25          -0.5   \n",
       "1971        2041  2015-01-02     -1.00      1.00     -0.25          -1.0   \n",
       "\n",
       "     zscore_2_name zscore_3_name  \n",
       "0              nan           nan  \n",
       "1            -1.25          -2.5  \n",
       "2            -1.25          -2.0  \n",
       "3            -1.25          -2.0  \n",
       "4            -1.25          -2.0  \n",
       "...            ...           ...  \n",
       "1967          0.75           0.0  \n",
       "1968           0.5          -0.0  \n",
       "1969          1.25           0.0  \n",
       "1970          1.25          0.25  \n",
       "1971           1.0         -0.25  \n",
       "\n",
       "[1933 rows x 8 columns]"
      ]
     },
     "execution_count": 42,
     "metadata": {},
     "output_type": "execute_result"
    }
   ],
   "source": [
    "stox_1 = stox.loc[stox['date'].isin(cred['date'])]\n",
    "stox_2 = stox_1.loc[stox_1['date'].isin(safe['date'])]\n",
    "stox_3 = stox_2.loc[stox_2['date'].isin(vol['date'])]\n",
    "stox_3"
   ]
  },
  {
   "cell_type": "code",
   "execution_count": 48,
   "id": "41d948dc",
   "metadata": {},
   "outputs": [
    {
     "data": {
      "text/plain": [
       "<matplotlib.legend.Legend at 0x7fcab08ccfa0>"
      ]
     },
     "execution_count": 48,
     "metadata": {},
     "output_type": "execute_result"
    },
    {
     "data": {
      "image/png": "[encoded data removed]",
      "text/plain": [
       "<Figure size 1080x360 with 1 Axes>"
      ]
     },
     "metadata": {
      "needs_background": "light"
     },
     "output_type": "display_data"
    }
   ],
   "source": [
    "import matplotlib.pyplot as plt\n",
    "\n",
    "plt.figure(figsize=(15,5))\n",
    "plt.xlim([0,250])\n",
    "plt.ylim([.3,.5])\n",
    "plt.plot(safe_acc_1, color='g', label=\"safe assets\")\n",
    "plt.plot(cred_acc_1, color = 'r', label=\"corporate bonds\")\n",
    "plt.plot(vol_acc_1, color = 'b', label=\"volatility\")\n",
    "plt.legend(loc = \"upper left\")"
   ]
  },
  {
   "cell_type": "code",
   "execution_count": 38,
   "id": "d31a2eb3",
   "metadata": {},
   "outputs": [
    {
     "data": {
      "text/plain": [
       "Index(['Unnamed: 0', 'date', 'zscore_1', 'zscore_2', 'zscore_3',\n",
       "       'zscore_1_name', 'zscore_2_name', 'zscore_3_name'],\n",
       "      dtype='object')"
      ]
     },
     "execution_count": 38,
     "metadata": {},
     "output_type": "execute_result"
    }
   ],
   "source": [
    "stox.keys()"
   ]
  },
  {
   "cell_type": "code",
   "execution_count": 41,
   "id": "c0caaa93",
   "metadata": {},
   "outputs": [
    {
     "ename": "SyntaxError",
     "evalue": "invalid syntax (<ipython-input-41-899fc3786496>, line 2)",
     "output_type": "error",
     "traceback": [
      "\u001b[0;36m  File \u001b[0;32m\"<ipython-input-41-899fc3786496>\"\u001b[0;36m, line \u001b[0;32m2\u001b[0m\n\u001b[0;31m    1.isin(j)\u001b[0m\n\u001b[0m      ^\u001b[0m\n\u001b[0;31mSyntaxError\u001b[0m\u001b[0;31m:\u001b[0m invalid syntax\n"
     ]
    }
   ],
   "source": [
    "j = [1,2]\n",
    "1.isin(j)"
   ]
  },
  {
   "cell_type": "code",
   "execution_count": 70,
   "id": "6c5fcf3e",
   "metadata": {},
   "outputs": [],
   "source": [
    "new_dates = set(cred_dates_1) & set(vol_dates_1) & set(safe_dates_1) "
   ]
  },
  {
   "cell_type": "code",
   "execution_count": 64,
   "id": "c1da6e58",
   "metadata": {},
   "outputs": [],
   "source": [
    "safe_data = pd.DataFrame({'date':safe_dates_1, \n",
    "                          'safe_acc_1':safe_acc_1, \n",
    "                          'safe_acc_2':safe_acc_2,\n",
    "                          'safe_acc_3':safe_acc_3})"
   ]
  },
  {
   "cell_type": "code",
   "execution_count": 68,
   "id": "4842662c",
   "metadata": {},
   "outputs": [],
   "source": [
    "cred_data = pd.DataFrame({'date':cred_dates_1, \n",
    "                          'cred_acc_1':cred_acc_1,\n",
    "                          'cred_acc_2':cred_acc_2,\n",
    "                          'cred_acc_3':cred_acc_3})"
   ]
  },
  {
   "cell_type": "code",
   "execution_count": 69,
   "id": "d1d3d6dc",
   "metadata": {},
   "outputs": [],
   "source": [
    "vol_data = pd.DataFrame({'date':vol_dates_1, \n",
    "                          'vol_acc_1':vol_acc_1,\n",
    "                          'vol_acc_2':vol_acc_2,\n",
    "                          'vol_acc_3':vol_acc_3})"
   ]
  },
  {
   "cell_type": "code",
   "execution_count": 72,
   "id": "d2ff06fa",
   "metadata": {},
   "outputs": [],
   "source": [
    "stox_dates = stox.loc[stox['date'].isin(new_dates)]\n",
    "safe_data_a = safe_data.loc[safe_data['date'].isin(new_dates)]\n",
    "vol_data_a = vol_data.loc[vol_data['date'].isin(new_dates)]\n",
    "cred_data_a = cred_data.loc[cred_data['date'].isin(new_dates)]"
   ]
  },
  {
   "cell_type": "code",
   "execution_count": 90,
   "id": "9a62df62",
   "metadata": {},
   "outputs": [
    {
     "data": {
      "text/plain": [
       "([<matplotlib.axis.XTick at 0x7fcad48853a0>,\n",
       "  <matplotlib.axis.XTick at 0x7fcad4885190>,\n",
       "  <matplotlib.axis.XTick at 0x7fcad48aafd0>],\n",
       " [Text(0, 0, ''), Text(0, 0, ''), Text(0, 0, '')])"
      ]
     },
     "execution_count": 90,
     "metadata": {},
     "output_type": "execute_result"
    },
    {
     "data": {
      "image/png": "[encoded data removed]",
      "text/plain": [
       "<Figure size 1080x360 with 2 Axes>"
      ]
     },
     "metadata": {
      "needs_background": "light"
     },
     "output_type": "display_data"
    }
   ],
   "source": [
    "x = cred_data_a['date']\n",
    "\n",
    "fig, ax1 = plt.subplots(figsize=(15,5))\n",
    "\n",
    "ax2 = ax1.twinx()\n",
    "ax1.plot(x, safe_data_a['safe_acc_1'], 'b')\n",
    "ax1.plot(x, vol_data_a['vol_acc_1'], 'g')\n",
    "ax1.plot(x, cred_data_a['cred_acc_1'], 'r')\n",
    "\n",
    "ax2.plot(x, stox_dates['zscore_1'], 'r--')\n",
    "ax2.plot(x, stox_dates['zscore_1'], 'b--')\n",
    "\n",
    "#plt.plot(x,safe_data_a['safe_acc_1'], 'b')\n",
    "#plt.plot(x,vol_data_a['vol_acc_1'], 'g')\n",
    "#plt.plot(x,cred_data_a['cred_acc_1'], 'r')\n",
    "#plt.plot(x,stox_dates['zscore_1'])\n",
    "plt.xticks([100,400, 650])"
   ]
  },
  {
   "cell_type": "code",
   "execution_count": null,
   "id": "812d0ff3",
   "metadata": {},
   "outputs": [],
   "source": []
  }
 ],
 "metadata": {
  "kernelspec": {
   "display_name": "Python 3",
   "language": "python",
   "name": "python3"
  },
  "language_info": {
   "codemirror_mode": {
    "name": "ipython",
    "version": 3
   },
   "file_extension": ".py",
   "mimetype": "text/x-python",
   "name": "python",
   "nbconvert_exporter": "python",
   "pygments_lexer": "ipython3",
   "version": "3.9.13"
  }
 },
 "nbformat": 4,
 "nbformat_minor": 5
}
